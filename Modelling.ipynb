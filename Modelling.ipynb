{
 "cells": [
  {
   "cell_type": "markdown",
   "metadata": {},
   "source": [
    "# <center> Predicting Yield using Regression  </center>\n",
    "\n",
    "\n",
    "\n",
    "| Feature | Description |\n",
    "| --- | --- |\n",
    "| farm_id | id given to the farms|\n",
    "| farm_area |  Area of the farm |\n",
    "| farming_company  | Name of the farming company |\n",
    "| deidentified_location  | location number assigned to the company |\n",
    "| date/timestamp | Timestamp value |\n",
    "| ingredient_type | ing_w, ing_x, ing_y, ing_z |\n",
    "| temp_obs  | observed temperature of that location |\n",
    "| cloudiness | cloud cover in that location |\n",
    "| wind_direction | Direction of wind of that location |\n",
    "| dew_temp | dew temperature of that location |\n",
    "| pressure_sea_level | Atmospheric pressure of the location |\n",
    "| wind_speed | Speed of the wind on that location |\n",
    "| num_processing_plants | Number of processing plant. |\n",
    "| operations_commencing_year  | year in which the company was started |\n",
    "| yield | the amount of prodcution of different igredient types|\n"
   ]
  },
  {
   "cell_type": "code",
   "execution_count": 1,
   "metadata": {
    "colab": {
     "base_uri": "https://localhost:8080/",
     "height": 122
    },
    "colab_type": "code",
    "id": "QJ-OVQdgLKMb",
    "outputId": "494a59a0-0ca5-4d72-8978-398796cce10b"
   },
   "outputs": [
    {
     "name": "stdout",
     "output_type": "stream",
     "text": [
      "Go to this URL in a browser: https://accounts.google.com/o/oauth2/auth?client_id=947318989803-6bn6qk8qdgf4n4g3pfee6491hc0brc4i.apps.googleusercontent.com&redirect_uri=urn%3aietf%3awg%3aoauth%3a2.0%3aoob&response_type=code&scope=email%20https%3a%2f%2fwww.googleapis.com%2fauth%2fdocs.test%20https%3a%2f%2fwww.googleapis.com%2fauth%2fdrive%20https%3a%2f%2fwww.googleapis.com%2fauth%2fdrive.photos.readonly%20https%3a%2f%2fwww.googleapis.com%2fauth%2fpeopleapi.readonly\n",
      "\n",
      "Enter your authorization code:\n",
      "··········\n",
      "Mounted at /content/drive\n"
     ]
    }
   ],
   "source": [
    "from google.colab import drive\n",
    "drive.mount('/content/drive')"
   ]
  },
  {
   "cell_type": "code",
   "execution_count": 0,
   "metadata": {
    "colab": {},
    "colab_type": "code",
    "id": "W8C-kn4HPqEM"
   },
   "outputs": [],
   "source": [
    "import pandas as pd\n",
    "import numpy as np"
   ]
  },
  {
   "cell_type": "code",
   "execution_count": 0,
   "metadata": {
    "colab": {},
    "colab_type": "code",
    "id": "ARRLYgD1Sn7e"
   },
   "outputs": [],
   "source": [
    "df = pd.read_csv(\"/content/drive/My Drive/CSV/train_phd.csv\")"
   ]
  },
  {
   "cell_type": "code",
   "execution_count": 4,
   "metadata": {
    "colab": {
     "base_uri": "https://localhost:8080/",
     "height": 394
    },
    "colab_type": "code",
    "id": "gE8QLLs2TfCo",
    "outputId": "5cc3f3ee-9403-4a3e-c124-4b8aeedae662"
   },
   "outputs": [
    {
     "data": {
      "text/html": [
       "<div>\n",
       "<style scoped>\n",
       "    .dataframe tbody tr th:only-of-type {\n",
       "        vertical-align: middle;\n",
       "    }\n",
       "\n",
       "    .dataframe tbody tr th {\n",
       "        vertical-align: top;\n",
       "    }\n",
       "\n",
       "    .dataframe thead th {\n",
       "        text-align: right;\n",
       "    }\n",
       "</style>\n",
       "<table border=\"1\" class=\"dataframe\">\n",
       "  <thead>\n",
       "    <tr style=\"text-align: right;\">\n",
       "      <th></th>\n",
       "      <th>farm_id</th>\n",
       "      <th>farm_area</th>\n",
       "      <th>farming_company</th>\n",
       "      <th>deidentified_location</th>\n",
       "      <th>date</th>\n",
       "      <th>ingredient_type</th>\n",
       "      <th>yield</th>\n",
       "      <th>temp_obs</th>\n",
       "      <th>cloudiness</th>\n",
       "      <th>wind_direction</th>\n",
       "      <th>dew_temp</th>\n",
       "      <th>pressure_sea_level</th>\n",
       "      <th>precipitation</th>\n",
       "      <th>wind_speed</th>\n",
       "    </tr>\n",
       "  </thead>\n",
       "  <tbody>\n",
       "    <tr>\n",
       "      <th>0</th>\n",
       "      <td>fid_110884</td>\n",
       "      <td>690.455096</td>\n",
       "      <td>Obery Farms</td>\n",
       "      <td>location 7369</td>\n",
       "      <td>2016-01-01 00:00:00</td>\n",
       "      <td>ing_w</td>\n",
       "      <td>0.0</td>\n",
       "      <td>25.0</td>\n",
       "      <td>6.0</td>\n",
       "      <td>0.0</td>\n",
       "      <td>20.0</td>\n",
       "      <td>1019.7</td>\n",
       "      <td>-1.0</td>\n",
       "      <td>0.0</td>\n",
       "    </tr>\n",
       "    <tr>\n",
       "      <th>1</th>\n",
       "      <td>fid_90053</td>\n",
       "      <td>252.696160</td>\n",
       "      <td>Obery Farms</td>\n",
       "      <td>location 7369</td>\n",
       "      <td>2016-01-01 00:00:00</td>\n",
       "      <td>ing_w</td>\n",
       "      <td>0.0</td>\n",
       "      <td>25.0</td>\n",
       "      <td>6.0</td>\n",
       "      <td>0.0</td>\n",
       "      <td>20.0</td>\n",
       "      <td>1019.7</td>\n",
       "      <td>-1.0</td>\n",
       "      <td>0.0</td>\n",
       "    </tr>\n",
       "    <tr>\n",
       "      <th>2</th>\n",
       "      <td>fid_17537</td>\n",
       "      <td>499.446528</td>\n",
       "      <td>Obery Farms</td>\n",
       "      <td>location 7369</td>\n",
       "      <td>2016-01-01 00:00:00</td>\n",
       "      <td>ing_w</td>\n",
       "      <td>0.0</td>\n",
       "      <td>25.0</td>\n",
       "      <td>6.0</td>\n",
       "      <td>0.0</td>\n",
       "      <td>20.0</td>\n",
       "      <td>1019.7</td>\n",
       "      <td>-1.0</td>\n",
       "      <td>0.0</td>\n",
       "    </tr>\n",
       "    <tr>\n",
       "      <th>3</th>\n",
       "      <td>fid_110392</td>\n",
       "      <td>2200.407555</td>\n",
       "      <td>Obery Farms</td>\n",
       "      <td>location 7369</td>\n",
       "      <td>2016-01-01 00:00:00</td>\n",
       "      <td>ing_w</td>\n",
       "      <td>0.0</td>\n",
       "      <td>25.0</td>\n",
       "      <td>6.0</td>\n",
       "      <td>0.0</td>\n",
       "      <td>20.0</td>\n",
       "      <td>1019.7</td>\n",
       "      <td>-1.0</td>\n",
       "      <td>0.0</td>\n",
       "    </tr>\n",
       "    <tr>\n",
       "      <th>4</th>\n",
       "      <td>fid_62402</td>\n",
       "      <td>10833.140121</td>\n",
       "      <td>Obery Farms</td>\n",
       "      <td>location 7369</td>\n",
       "      <td>2016-01-01 00:00:00</td>\n",
       "      <td>ing_w</td>\n",
       "      <td>0.0</td>\n",
       "      <td>25.0</td>\n",
       "      <td>6.0</td>\n",
       "      <td>0.0</td>\n",
       "      <td>20.0</td>\n",
       "      <td>1019.7</td>\n",
       "      <td>-1.0</td>\n",
       "      <td>0.0</td>\n",
       "    </tr>\n",
       "  </tbody>\n",
       "</table>\n",
       "</div>"
      ],
      "text/plain": [
       "      farm_id     farm_area  ... precipitation wind_speed\n",
       "0  fid_110884    690.455096  ...          -1.0        0.0\n",
       "1   fid_90053    252.696160  ...          -1.0        0.0\n",
       "2   fid_17537    499.446528  ...          -1.0        0.0\n",
       "3  fid_110392   2200.407555  ...          -1.0        0.0\n",
       "4   fid_62402  10833.140121  ...          -1.0        0.0\n",
       "\n",
       "[5 rows x 14 columns]"
      ]
     },
     "execution_count": 4,
     "metadata": {
      "tags": []
     },
     "output_type": "execute_result"
    }
   ],
   "source": [
    "df.head()"
   ]
  },
  {
   "cell_type": "code",
   "execution_count": 0,
   "metadata": {
    "colab": {},
    "colab_type": "code",
    "id": "NHDHmOHlfGzP"
   },
   "outputs": [],
   "source": [
    "pd.options.display.float_format = '{:.2f}'.format\n"
   ]
  },
  {
   "cell_type": "code",
   "execution_count": 6,
   "metadata": {
    "colab": {
     "base_uri": "https://localhost:8080/",
     "height": 102
    },
    "colab_type": "code",
    "id": "try766OOhyYR",
    "outputId": "c0a6dee6-73b2-416d-8d2f-843be906666d"
   },
   "outputs": [
    {
     "data": {
      "text/plain": [
       "Index(['farm_id', 'farm_area', 'farming_company', 'deidentified_location',\n",
       "       'date', 'ingredient_type', 'yield', 'temp_obs', 'cloudiness',\n",
       "       'wind_direction', 'dew_temp', 'pressure_sea_level', 'precipitation',\n",
       "       'wind_speed'],\n",
       "      dtype='object')"
      ]
     },
     "execution_count": 6,
     "metadata": {
      "tags": []
     },
     "output_type": "execute_result"
    }
   ],
   "source": [
    "df.columns"
   ]
  },
  {
   "cell_type": "code",
   "execution_count": 0,
   "metadata": {
    "colab": {
     "base_uri": "https://localhost:8080/",
     "height": 297
    },
    "colab_type": "code",
    "id": "gdIoNlMnd1-L",
    "outputId": "d3162a79-d34b-4a22-d8a5-ad5f19b13e06"
   },
   "outputs": [
    {
     "data": {
      "text/html": [
       "<div>\n",
       "<style scoped>\n",
       "    .dataframe tbody tr th:only-of-type {\n",
       "        vertical-align: middle;\n",
       "    }\n",
       "\n",
       "    .dataframe tbody tr th {\n",
       "        vertical-align: top;\n",
       "    }\n",
       "\n",
       "    .dataframe thead th {\n",
       "        text-align: right;\n",
       "    }\n",
       "</style>\n",
       "<table border=\"1\" class=\"dataframe\">\n",
       "  <thead>\n",
       "    <tr style=\"text-align: right;\">\n",
       "      <th></th>\n",
       "      <th>temp_obs</th>\n",
       "      <th>cloudiness</th>\n",
       "      <th>wind_direction</th>\n",
       "    </tr>\n",
       "  </thead>\n",
       "  <tbody>\n",
       "    <tr>\n",
       "      <th>count</th>\n",
       "      <td>20511532.00</td>\n",
       "      <td>20511532.00</td>\n",
       "      <td>20511532.00</td>\n",
       "    </tr>\n",
       "    <tr>\n",
       "      <th>mean</th>\n",
       "      <td>15.98</td>\n",
       "      <td>2.71</td>\n",
       "      <td>170.99</td>\n",
       "    </tr>\n",
       "    <tr>\n",
       "      <th>std</th>\n",
       "      <td>10.94</td>\n",
       "      <td>2.87</td>\n",
       "      <td>114.05</td>\n",
       "    </tr>\n",
       "    <tr>\n",
       "      <th>min</th>\n",
       "      <td>-28.90</td>\n",
       "      <td>0.00</td>\n",
       "      <td>0.00</td>\n",
       "    </tr>\n",
       "    <tr>\n",
       "      <th>25%</th>\n",
       "      <td>8.60</td>\n",
       "      <td>0.00</td>\n",
       "      <td>70.00</td>\n",
       "    </tr>\n",
       "    <tr>\n",
       "      <th>50%</th>\n",
       "      <td>16.70</td>\n",
       "      <td>2.00</td>\n",
       "      <td>170.00</td>\n",
       "    </tr>\n",
       "    <tr>\n",
       "      <th>75%</th>\n",
       "      <td>23.90</td>\n",
       "      <td>4.00</td>\n",
       "      <td>270.00</td>\n",
       "    </tr>\n",
       "    <tr>\n",
       "      <th>max</th>\n",
       "      <td>47.20</td>\n",
       "      <td>9.00</td>\n",
       "      <td>360.00</td>\n",
       "    </tr>\n",
       "  </tbody>\n",
       "</table>\n",
       "</div>"
      ],
      "text/plain": [
       "         temp_obs  cloudiness  wind_direction\n",
       "count 20511532.00 20511532.00     20511532.00\n",
       "mean        15.98        2.71          170.99\n",
       "std         10.94        2.87          114.05\n",
       "min        -28.90        0.00            0.00\n",
       "25%          8.60        0.00           70.00\n",
       "50%         16.70        2.00          170.00\n",
       "75%         23.90        4.00          270.00\n",
       "max         47.20        9.00          360.00"
      ]
     },
     "execution_count": 7,
     "metadata": {
      "tags": []
     },
     "output_type": "execute_result"
    }
   ],
   "source": [
    "df[['temp_obs', 'cloudiness', 'wind_direction']].describe()\n"
   ]
  },
  {
   "cell_type": "code",
   "execution_count": 0,
   "metadata": {
    "colab": {
     "base_uri": "https://localhost:8080/",
     "height": 297
    },
    "colab_type": "code",
    "id": "fMo2B4Nljs-y",
    "outputId": "eabc5937-7b79-48cb-efb6-7c5fa38f64aa"
   },
   "outputs": [
    {
     "data": {
      "text/html": [
       "<div>\n",
       "<style scoped>\n",
       "    .dataframe tbody tr th:only-of-type {\n",
       "        vertical-align: middle;\n",
       "    }\n",
       "\n",
       "    .dataframe tbody tr th {\n",
       "        vertical-align: top;\n",
       "    }\n",
       "\n",
       "    .dataframe thead th {\n",
       "        text-align: right;\n",
       "    }\n",
       "</style>\n",
       "<table border=\"1\" class=\"dataframe\">\n",
       "  <thead>\n",
       "    <tr style=\"text-align: right;\">\n",
       "      <th></th>\n",
       "      <th>dew_temp</th>\n",
       "      <th>pressure_sea_level</th>\n",
       "      <th>precipitation</th>\n",
       "    </tr>\n",
       "  </thead>\n",
       "  <tbody>\n",
       "    <tr>\n",
       "      <th>count</th>\n",
       "      <td>20511532.00</td>\n",
       "      <td>20511532.00</td>\n",
       "      <td>20511532.00</td>\n",
       "    </tr>\n",
       "    <tr>\n",
       "      <th>mean</th>\n",
       "      <td>7.74</td>\n",
       "      <td>1015.96</td>\n",
       "      <td>1.22</td>\n",
       "    </tr>\n",
       "    <tr>\n",
       "      <th>std</th>\n",
       "      <td>10.17</td>\n",
       "      <td>6.93</td>\n",
       "      <td>8.80</td>\n",
       "    </tr>\n",
       "    <tr>\n",
       "      <th>min</th>\n",
       "      <td>-35.00</td>\n",
       "      <td>968.20</td>\n",
       "      <td>-1.00</td>\n",
       "    </tr>\n",
       "    <tr>\n",
       "      <th>25%</th>\n",
       "      <td>0.00</td>\n",
       "      <td>1011.80</td>\n",
       "      <td>0.00</td>\n",
       "    </tr>\n",
       "    <tr>\n",
       "      <th>50%</th>\n",
       "      <td>8.90</td>\n",
       "      <td>1015.70</td>\n",
       "      <td>0.00</td>\n",
       "    </tr>\n",
       "    <tr>\n",
       "      <th>75%</th>\n",
       "      <td>16.00</td>\n",
       "      <td>1020.30</td>\n",
       "      <td>0.00</td>\n",
       "    </tr>\n",
       "    <tr>\n",
       "      <th>max</th>\n",
       "      <td>26.10</td>\n",
       "      <td>1045.50</td>\n",
       "      <td>343.00</td>\n",
       "    </tr>\n",
       "  </tbody>\n",
       "</table>\n",
       "</div>"
      ],
      "text/plain": [
       "         dew_temp  pressure_sea_level  precipitation\n",
       "count 20511532.00         20511532.00    20511532.00\n",
       "mean         7.74             1015.96           1.22\n",
       "std         10.17                6.93           8.80\n",
       "min        -35.00              968.20          -1.00\n",
       "25%          0.00             1011.80           0.00\n",
       "50%          8.90             1015.70           0.00\n",
       "75%         16.00             1020.30           0.00\n",
       "max         26.10             1045.50         343.00"
      ]
     },
     "execution_count": 8,
     "metadata": {
      "tags": []
     },
     "output_type": "execute_result"
    }
   ],
   "source": [
    "df[['dew_temp', 'pressure_sea_level', 'precipitation']].describe()\n"
   ]
  },
  {
   "cell_type": "code",
   "execution_count": 0,
   "metadata": {
    "colab": {
     "base_uri": "https://localhost:8080/",
     "height": 297
    },
    "colab_type": "code",
    "id": "rGiDQpckj8G4",
    "outputId": "90035a99-6898-4744-fcaa-6ac3849b5fd0"
   },
   "outputs": [
    {
     "data": {
      "text/html": [
       "<div>\n",
       "<style scoped>\n",
       "    .dataframe tbody tr th:only-of-type {\n",
       "        vertical-align: middle;\n",
       "    }\n",
       "\n",
       "    .dataframe tbody tr th {\n",
       "        vertical-align: top;\n",
       "    }\n",
       "\n",
       "    .dataframe thead th {\n",
       "        text-align: right;\n",
       "    }\n",
       "</style>\n",
       "<table border=\"1\" class=\"dataframe\">\n",
       "  <thead>\n",
       "    <tr style=\"text-align: right;\">\n",
       "      <th></th>\n",
       "      <th>wind_speed</th>\n",
       "      <th>farm_area</th>\n",
       "    </tr>\n",
       "  </thead>\n",
       "  <tbody>\n",
       "    <tr>\n",
       "      <th>count</th>\n",
       "      <td>20511532.00</td>\n",
       "      <td>20511532.00</td>\n",
       "    </tr>\n",
       "    <tr>\n",
       "      <th>mean</th>\n",
       "      <td>3.38</td>\n",
       "      <td>9944.73</td>\n",
       "    </tr>\n",
       "    <tr>\n",
       "      <th>std</th>\n",
       "      <td>2.27</td>\n",
       "      <td>10856.29</td>\n",
       "    </tr>\n",
       "    <tr>\n",
       "      <th>min</th>\n",
       "      <td>0.00</td>\n",
       "      <td>26.29</td>\n",
       "    </tr>\n",
       "    <tr>\n",
       "      <th>25%</th>\n",
       "      <td>2.10</td>\n",
       "      <td>2992.03</td>\n",
       "    </tr>\n",
       "    <tr>\n",
       "      <th>50%</th>\n",
       "      <td>3.10</td>\n",
       "      <td>6683.07</td>\n",
       "    </tr>\n",
       "    <tr>\n",
       "      <th>75%</th>\n",
       "      <td>4.60</td>\n",
       "      <td>12802.59</td>\n",
       "    </tr>\n",
       "    <tr>\n",
       "      <th>max</th>\n",
       "      <td>19.00</td>\n",
       "      <td>81290.12</td>\n",
       "    </tr>\n",
       "  </tbody>\n",
       "</table>\n",
       "</div>"
      ],
      "text/plain": [
       "       wind_speed   farm_area\n",
       "count 20511532.00 20511532.00\n",
       "mean         3.38     9944.73\n",
       "std          2.27    10856.29\n",
       "min          0.00       26.29\n",
       "25%          2.10     2992.03\n",
       "50%          3.10     6683.07\n",
       "75%          4.60    12802.59\n",
       "max         19.00    81290.12"
      ]
     },
     "execution_count": 9,
     "metadata": {
      "tags": []
     },
     "output_type": "execute_result"
    }
   ],
   "source": [
    "df[['wind_speed', 'farm_area']].describe()\n"
   ]
  },
  {
   "cell_type": "code",
   "execution_count": 0,
   "metadata": {
    "colab": {
     "base_uri": "https://localhost:8080/",
     "height": 221
    },
    "colab_type": "code",
    "id": "piLlK3rpolcM",
    "outputId": "0f19a18a-b01d-4e44-cf33-7c88e3a97eb7"
   },
   "outputs": [
    {
     "data": {
      "text/plain": [
       "1013.60    936757\n",
       "1012.40    130360\n",
       "1015.20    129784\n",
       "1016.20    128332\n",
       "1017.70    127437\n",
       "            ...  \n",
       "974.80         36\n",
       "968.20         36\n",
       "969.40         36\n",
       "972.90         36\n",
       "971.60         36\n",
       "Name: pressure_sea_level, Length: 709, dtype: int64"
      ]
     },
     "execution_count": 10,
     "metadata": {
      "tags": []
     },
     "output_type": "execute_result"
    }
   ],
   "source": [
    "df[ 'pressure_sea_level'].value_counts()"
   ]
  },
  {
   "cell_type": "markdown",
   "metadata": {
    "colab_type": "text",
    "id": "5CsjQyaEFJy7"
   },
   "source": [
    "# Playing with Correlation:"
   ]
  },
  {
   "cell_type": "code",
   "execution_count": 0,
   "metadata": {
    "colab": {
     "base_uri": "https://localhost:8080/",
     "height": 111
    },
    "colab_type": "code",
    "id": "_SEBAqdzpLbJ",
    "outputId": "9e1c5776-1b7e-4b14-9e5d-89cab372eb12"
   },
   "outputs": [
    {
     "data": {
      "text/html": [
       "<div>\n",
       "<style scoped>\n",
       "    .dataframe tbody tr th:only-of-type {\n",
       "        vertical-align: middle;\n",
       "    }\n",
       "\n",
       "    .dataframe tbody tr th {\n",
       "        vertical-align: top;\n",
       "    }\n",
       "\n",
       "    .dataframe thead th {\n",
       "        text-align: right;\n",
       "    }\n",
       "</style>\n",
       "<table border=\"1\" class=\"dataframe\">\n",
       "  <thead>\n",
       "    <tr style=\"text-align: right;\">\n",
       "      <th></th>\n",
       "      <th>yield</th>\n",
       "      <th>wind_speed</th>\n",
       "    </tr>\n",
       "  </thead>\n",
       "  <tbody>\n",
       "    <tr>\n",
       "      <th>yield</th>\n",
       "      <td>1.00</td>\n",
       "      <td>0.01</td>\n",
       "    </tr>\n",
       "    <tr>\n",
       "      <th>wind_speed</th>\n",
       "      <td>0.01</td>\n",
       "      <td>1.00</td>\n",
       "    </tr>\n",
       "  </tbody>\n",
       "</table>\n",
       "</div>"
      ],
      "text/plain": [
       "            yield  wind_speed\n",
       "yield        1.00        0.01\n",
       "wind_speed   0.01        1.00"
      ]
     },
     "execution_count": 11,
     "metadata": {
      "tags": []
     },
     "output_type": "execute_result"
    }
   ],
   "source": [
    "df[['yield', 'wind_speed']].corr()\n"
   ]
  },
  {
   "cell_type": "code",
   "execution_count": 7,
   "metadata": {
    "colab": {
     "base_uri": "https://localhost:8080/",
     "height": 111
    },
    "colab_type": "code",
    "id": "Q2jtnj_lFjz5",
    "outputId": "6716a5eb-d6e6-4173-a87f-c9765ef81857"
   },
   "outputs": [
    {
     "data": {
      "text/html": [
       "<div>\n",
       "<style scoped>\n",
       "    .dataframe tbody tr th:only-of-type {\n",
       "        vertical-align: middle;\n",
       "    }\n",
       "\n",
       "    .dataframe tbody tr th {\n",
       "        vertical-align: top;\n",
       "    }\n",
       "\n",
       "    .dataframe thead th {\n",
       "        text-align: right;\n",
       "    }\n",
       "</style>\n",
       "<table border=\"1\" class=\"dataframe\">\n",
       "  <thead>\n",
       "    <tr style=\"text-align: right;\">\n",
       "      <th></th>\n",
       "      <th>yield</th>\n",
       "      <th>precipitation</th>\n",
       "    </tr>\n",
       "  </thead>\n",
       "  <tbody>\n",
       "    <tr>\n",
       "      <th>yield</th>\n",
       "      <td>1.00</td>\n",
       "      <td>-0.00</td>\n",
       "    </tr>\n",
       "    <tr>\n",
       "      <th>precipitation</th>\n",
       "      <td>-0.00</td>\n",
       "      <td>1.00</td>\n",
       "    </tr>\n",
       "  </tbody>\n",
       "</table>\n",
       "</div>"
      ],
      "text/plain": [
       "               yield  precipitation\n",
       "yield           1.00          -0.00\n",
       "precipitation  -0.00           1.00"
      ]
     },
     "execution_count": 7,
     "metadata": {
      "tags": []
     },
     "output_type": "execute_result"
    }
   ],
   "source": [
    "df[['yield', 'precipitation']].corr()\n"
   ]
  },
  {
   "cell_type": "code",
   "execution_count": 0,
   "metadata": {
    "colab": {
     "base_uri": "https://localhost:8080/",
     "height": 128
    },
    "colab_type": "code",
    "id": "gwfRTYpSoHLk",
    "outputId": "f2a63c87-8171-4e94-a261-e90c1e1b6fbe"
   },
   "outputs": [
    {
     "name": "stdout",
     "output_type": "stream",
     "text": [
      "# of observations :  19888487\n"
     ]
    },
    {
     "data": {
      "text/html": [
       "<div>\n",
       "<style scoped>\n",
       "    .dataframe tbody tr th:only-of-type {\n",
       "        vertical-align: middle;\n",
       "    }\n",
       "\n",
       "    .dataframe tbody tr th {\n",
       "        vertical-align: top;\n",
       "    }\n",
       "\n",
       "    .dataframe thead th {\n",
       "        text-align: right;\n",
       "    }\n",
       "</style>\n",
       "<table border=\"1\" class=\"dataframe\">\n",
       "  <thead>\n",
       "    <tr style=\"text-align: right;\">\n",
       "      <th></th>\n",
       "      <th>yield</th>\n",
       "      <th>precipitation</th>\n",
       "    </tr>\n",
       "  </thead>\n",
       "  <tbody>\n",
       "    <tr>\n",
       "      <th>yield</th>\n",
       "      <td>1.00</td>\n",
       "      <td>-0.00</td>\n",
       "    </tr>\n",
       "    <tr>\n",
       "      <th>precipitation</th>\n",
       "      <td>-0.00</td>\n",
       "      <td>1.00</td>\n",
       "    </tr>\n",
       "  </tbody>\n",
       "</table>\n",
       "</div>"
      ],
      "text/plain": [
       "               yield  precipitation\n",
       "yield           1.00          -0.00\n",
       "precipitation  -0.00           1.00"
      ]
     },
     "execution_count": 14,
     "metadata": {
      "tags": []
     },
     "output_type": "execute_result"
    }
   ],
   "source": [
    "print('# of observations : ', df[df['precipitation']< 10].shape[0])\n",
    "\n",
    "df1 = df[df['precipitation']< 10]\n",
    "\n",
    "df1[['yield', 'precipitation']].corr()\n"
   ]
  },
  {
   "cell_type": "code",
   "execution_count": 0,
   "metadata": {
    "colab": {},
    "colab_type": "code",
    "id": "PnaA80fktLJ0"
   },
   "outputs": [],
   "source": [
    "import seaborn as sns\n",
    "\n"
   ]
  },
  {
   "cell_type": "code",
   "execution_count": 0,
   "metadata": {
    "colab": {},
    "colab_type": "code",
    "id": "wbhXRonEzD0P"
   },
   "outputs": [],
   "source": [
    "corr_matrix=df.corr()\n"
   ]
  },
  {
   "cell_type": "code",
   "execution_count": 0,
   "metadata": {
    "colab": {},
    "colab_type": "code",
    "id": "Nx1OcLrC03nm"
   },
   "outputs": [],
   "source": [
    "import matplotlib.pyplot as plt\n"
   ]
  },
  {
   "cell_type": "code",
   "execution_count": 12,
   "metadata": {
    "colab": {
     "base_uri": "https://localhost:8080/",
     "height": 885
    },
    "colab_type": "code",
    "id": "9NO2rrm_zHuY",
    "outputId": "99a1397d-6477-4b8a-dd17-3627d5432c33"
   },
   "outputs": [
    {
     "data": {
      "text/plain": [
       "<matplotlib.axes._subplots.AxesSubplot at 0x7fce35bcbb38>"
      ]
     },
     "execution_count": 12,
     "metadata": {
      "tags": []
     },
     "output_type": "execute_result"
    },
    {
     "data": {
      "image/png": "[encoded data removed]",
      "text/plain": [
       "<Figure size 1440x1080 with 2 Axes>"
      ]
     },
     "metadata": {
      "tags": []
     },
     "output_type": "display_data"
    }
   ],
   "source": [
    "plt.subplots(figsize=(20,15))\n",
    "\n",
    "sns.heatmap(corr_matrix, annot=True, annot_kws={\"size\": 10})\n"
   ]
  },
  {
   "cell_type": "code",
   "execution_count": 16,
   "metadata": {
    "colab": {
     "base_uri": "https://localhost:8080/",
     "height": 170
    },
    "colab_type": "code",
    "id": "DHHsOYWD1-ZO",
    "outputId": "5a52b61b-3318-45e6-8092-d09374e1a2d0"
   },
   "outputs": [
    {
     "data": {
      "text/plain": [
       "count   20511532.00\n",
       "mean           3.38\n",
       "std            2.27\n",
       "min            0.00\n",
       "25%            2.10\n",
       "50%            3.10\n",
       "75%            4.60\n",
       "max           19.00\n",
       "Name: wind_speed, dtype: float64"
      ]
     },
     "execution_count": 16,
     "metadata": {
      "tags": []
     },
     "output_type": "execute_result"
    }
   ],
   "source": [
    "df['wind_speed'].describe()"
   ]
  },
  {
   "cell_type": "code",
   "execution_count": 13,
   "metadata": {
    "colab": {
     "base_uri": "https://localhost:8080/",
     "height": 170
    },
    "colab_type": "code",
    "id": "i3oog38T2k_-",
    "outputId": "ab4f3ecd-3be9-40de-addc-0528006d57f1"
   },
   "outputs": [
    {
     "data": {
      "text/plain": [
       "count   20511532.00\n",
       "mean           2.71\n",
       "std            2.87\n",
       "min            0.00\n",
       "25%            0.00\n",
       "50%            2.00\n",
       "75%            4.00\n",
       "max            9.00\n",
       "Name: cloudiness, dtype: float64"
      ]
     },
     "execution_count": 13,
     "metadata": {
      "tags": []
     },
     "output_type": "execute_result"
    }
   ],
   "source": [
    "df['cloudiness'].describe()"
   ]
  },
  {
   "cell_type": "code",
   "execution_count": 14,
   "metadata": {
    "colab": {
     "base_uri": "https://localhost:8080/",
     "height": 204
    },
    "colab_type": "code",
    "id": "11DXZ9T42zGu",
    "outputId": "43d7c575-4155-4877-8448-98f6e75bb5b3"
   },
   "outputs": [
    {
     "data": {
      "text/plain": [
       "0.00    8500191\n",
       "4.00    3751736\n",
       "2.00    3581211\n",
       "8.00    2195597\n",
       "6.00    1930236\n",
       "9.00     354435\n",
       "7.00     129616\n",
       "1.00      26440\n",
       "3.00      22511\n",
       "5.00      19559\n",
       "Name: cloudiness, dtype: int64"
      ]
     },
     "execution_count": 14,
     "metadata": {
      "tags": []
     },
     "output_type": "execute_result"
    }
   ],
   "source": [
    "df['cloudiness'].value_counts()"
   ]
  },
  {
   "cell_type": "markdown",
   "metadata": {
    "colab_type": "text",
    "id": "O7DBELuAEUam"
   },
   "source": [
    "# BINNING:"
   ]
  },
  {
   "cell_type": "code",
   "execution_count": 17,
   "metadata": {
    "colab": {
     "base_uri": "https://localhost:8080/",
     "height": 394
    },
    "colab_type": "code",
    "id": "z-Idr94j3KhX",
    "outputId": "961bf5e6-0d0d-4efd-bd6a-00a55b38463f"
   },
   "outputs": [
    {
     "data": {
      "text/html": [
       "<div>\n",
       "<style scoped>\n",
       "    .dataframe tbody tr th:only-of-type {\n",
       "        vertical-align: middle;\n",
       "    }\n",
       "\n",
       "    .dataframe tbody tr th {\n",
       "        vertical-align: top;\n",
       "    }\n",
       "\n",
       "    .dataframe thead th {\n",
       "        text-align: right;\n",
       "    }\n",
       "</style>\n",
       "<table border=\"1\" class=\"dataframe\">\n",
       "  <thead>\n",
       "    <tr style=\"text-align: right;\">\n",
       "      <th></th>\n",
       "      <th>farm_id</th>\n",
       "      <th>farm_area</th>\n",
       "      <th>farming_company</th>\n",
       "      <th>deidentified_location</th>\n",
       "      <th>date</th>\n",
       "      <th>ingredient_type</th>\n",
       "      <th>yield</th>\n",
       "      <th>temp_obs</th>\n",
       "      <th>cloudiness</th>\n",
       "      <th>wind_direction</th>\n",
       "      <th>dew_temp</th>\n",
       "      <th>pressure_sea_level</th>\n",
       "      <th>precipitation</th>\n",
       "      <th>wind_speed</th>\n",
       "      <th>cloudiness_cat</th>\n",
       "    </tr>\n",
       "  </thead>\n",
       "  <tbody>\n",
       "    <tr>\n",
       "      <th>0</th>\n",
       "      <td>fid_110884</td>\n",
       "      <td>690.46</td>\n",
       "      <td>Obery Farms</td>\n",
       "      <td>location 7369</td>\n",
       "      <td>2016-01-01 00:00:00</td>\n",
       "      <td>ing_w</td>\n",
       "      <td>0.00</td>\n",
       "      <td>25.00</td>\n",
       "      <td>6.00</td>\n",
       "      <td>0.00</td>\n",
       "      <td>20.00</td>\n",
       "      <td>1019.70</td>\n",
       "      <td>-1.00</td>\n",
       "      <td>0.00</td>\n",
       "      <td>C3</td>\n",
       "    </tr>\n",
       "    <tr>\n",
       "      <th>1</th>\n",
       "      <td>fid_90053</td>\n",
       "      <td>252.70</td>\n",
       "      <td>Obery Farms</td>\n",
       "      <td>location 7369</td>\n",
       "      <td>2016-01-01 00:00:00</td>\n",
       "      <td>ing_w</td>\n",
       "      <td>0.00</td>\n",
       "      <td>25.00</td>\n",
       "      <td>6.00</td>\n",
       "      <td>0.00</td>\n",
       "      <td>20.00</td>\n",
       "      <td>1019.70</td>\n",
       "      <td>-1.00</td>\n",
       "      <td>0.00</td>\n",
       "      <td>C3</td>\n",
       "    </tr>\n",
       "    <tr>\n",
       "      <th>2</th>\n",
       "      <td>fid_17537</td>\n",
       "      <td>499.45</td>\n",
       "      <td>Obery Farms</td>\n",
       "      <td>location 7369</td>\n",
       "      <td>2016-01-01 00:00:00</td>\n",
       "      <td>ing_w</td>\n",
       "      <td>0.00</td>\n",
       "      <td>25.00</td>\n",
       "      <td>6.00</td>\n",
       "      <td>0.00</td>\n",
       "      <td>20.00</td>\n",
       "      <td>1019.70</td>\n",
       "      <td>-1.00</td>\n",
       "      <td>0.00</td>\n",
       "      <td>C3</td>\n",
       "    </tr>\n",
       "    <tr>\n",
       "      <th>3</th>\n",
       "      <td>fid_110392</td>\n",
       "      <td>2200.41</td>\n",
       "      <td>Obery Farms</td>\n",
       "      <td>location 7369</td>\n",
       "      <td>2016-01-01 00:00:00</td>\n",
       "      <td>ing_w</td>\n",
       "      <td>0.00</td>\n",
       "      <td>25.00</td>\n",
       "      <td>6.00</td>\n",
       "      <td>0.00</td>\n",
       "      <td>20.00</td>\n",
       "      <td>1019.70</td>\n",
       "      <td>-1.00</td>\n",
       "      <td>0.00</td>\n",
       "      <td>C3</td>\n",
       "    </tr>\n",
       "    <tr>\n",
       "      <th>4</th>\n",
       "      <td>fid_62402</td>\n",
       "      <td>10833.14</td>\n",
       "      <td>Obery Farms</td>\n",
       "      <td>location 7369</td>\n",
       "      <td>2016-01-01 00:00:00</td>\n",
       "      <td>ing_w</td>\n",
       "      <td>0.00</td>\n",
       "      <td>25.00</td>\n",
       "      <td>6.00</td>\n",
       "      <td>0.00</td>\n",
       "      <td>20.00</td>\n",
       "      <td>1019.70</td>\n",
       "      <td>-1.00</td>\n",
       "      <td>0.00</td>\n",
       "      <td>C3</td>\n",
       "    </tr>\n",
       "  </tbody>\n",
       "</table>\n",
       "</div>"
      ],
      "text/plain": [
       "      farm_id  farm_area  ... wind_speed cloudiness_cat\n",
       "0  fid_110884     690.46  ...       0.00             C3\n",
       "1   fid_90053     252.70  ...       0.00             C3\n",
       "2   fid_17537     499.45  ...       0.00             C3\n",
       "3  fid_110392    2200.41  ...       0.00             C3\n",
       "4   fid_62402   10833.14  ...       0.00             C3\n",
       "\n",
       "[5 rows x 15 columns]"
      ]
     },
     "execution_count": 17,
     "metadata": {
      "tags": []
     },
     "output_type": "execute_result"
    }
   ],
   "source": [
    "bins = [0,2,4,6,8,10]\n",
    "grp = [\"C1\",\"C2\",\"C3\",\"C4\", \"C5\"]\n",
    "df[\"cloudiness_cat\"] = pd.cut(df[\"cloudiness\"],bins,labels= grp,include_lowest=True)\n",
    "df.head()\n"
   ]
  },
  {
   "cell_type": "code",
   "execution_count": 18,
   "metadata": {
    "colab": {
     "base_uri": "https://localhost:8080/",
     "height": 394
    },
    "colab_type": "code",
    "id": "NfrufgTnCQO3",
    "outputId": "f1908db8-d072-4a4e-a558-1a30a071b1b0"
   },
   "outputs": [
    {
     "data": {
      "text/html": [
       "<div>\n",
       "<style scoped>\n",
       "    .dataframe tbody tr th:only-of-type {\n",
       "        vertical-align: middle;\n",
       "    }\n",
       "\n",
       "    .dataframe tbody tr th {\n",
       "        vertical-align: top;\n",
       "    }\n",
       "\n",
       "    .dataframe thead th {\n",
       "        text-align: right;\n",
       "    }\n",
       "</style>\n",
       "<table border=\"1\" class=\"dataframe\">\n",
       "  <thead>\n",
       "    <tr style=\"text-align: right;\">\n",
       "      <th></th>\n",
       "      <th>farm_id</th>\n",
       "      <th>farm_area</th>\n",
       "      <th>farming_company</th>\n",
       "      <th>deidentified_location</th>\n",
       "      <th>date</th>\n",
       "      <th>ingredient_type</th>\n",
       "      <th>yield</th>\n",
       "      <th>temp_obs</th>\n",
       "      <th>cloudiness</th>\n",
       "      <th>wind_direction</th>\n",
       "      <th>dew_temp</th>\n",
       "      <th>pressure_sea_level</th>\n",
       "      <th>precipitation</th>\n",
       "      <th>wind_speed</th>\n",
       "      <th>cloudiness_cat</th>\n",
       "      <th>wind_speed_cat</th>\n",
       "    </tr>\n",
       "  </thead>\n",
       "  <tbody>\n",
       "    <tr>\n",
       "      <th>0</th>\n",
       "      <td>fid_110884</td>\n",
       "      <td>690.46</td>\n",
       "      <td>Obery Farms</td>\n",
       "      <td>location 7369</td>\n",
       "      <td>2016-01-01 00:00:00</td>\n",
       "      <td>ing_w</td>\n",
       "      <td>0.00</td>\n",
       "      <td>25.00</td>\n",
       "      <td>6.00</td>\n",
       "      <td>0.00</td>\n",
       "      <td>20.00</td>\n",
       "      <td>1019.70</td>\n",
       "      <td>-1.00</td>\n",
       "      <td>0.00</td>\n",
       "      <td>C3</td>\n",
       "      <td>W1</td>\n",
       "    </tr>\n",
       "    <tr>\n",
       "      <th>1</th>\n",
       "      <td>fid_90053</td>\n",
       "      <td>252.70</td>\n",
       "      <td>Obery Farms</td>\n",
       "      <td>location 7369</td>\n",
       "      <td>2016-01-01 00:00:00</td>\n",
       "      <td>ing_w</td>\n",
       "      <td>0.00</td>\n",
       "      <td>25.00</td>\n",
       "      <td>6.00</td>\n",
       "      <td>0.00</td>\n",
       "      <td>20.00</td>\n",
       "      <td>1019.70</td>\n",
       "      <td>-1.00</td>\n",
       "      <td>0.00</td>\n",
       "      <td>C3</td>\n",
       "      <td>W1</td>\n",
       "    </tr>\n",
       "    <tr>\n",
       "      <th>2</th>\n",
       "      <td>fid_17537</td>\n",
       "      <td>499.45</td>\n",
       "      <td>Obery Farms</td>\n",
       "      <td>location 7369</td>\n",
       "      <td>2016-01-01 00:00:00</td>\n",
       "      <td>ing_w</td>\n",
       "      <td>0.00</td>\n",
       "      <td>25.00</td>\n",
       "      <td>6.00</td>\n",
       "      <td>0.00</td>\n",
       "      <td>20.00</td>\n",
       "      <td>1019.70</td>\n",
       "      <td>-1.00</td>\n",
       "      <td>0.00</td>\n",
       "      <td>C3</td>\n",
       "      <td>W1</td>\n",
       "    </tr>\n",
       "    <tr>\n",
       "      <th>3</th>\n",
       "      <td>fid_110392</td>\n",
       "      <td>2200.41</td>\n",
       "      <td>Obery Farms</td>\n",
       "      <td>location 7369</td>\n",
       "      <td>2016-01-01 00:00:00</td>\n",
       "      <td>ing_w</td>\n",
       "      <td>0.00</td>\n",
       "      <td>25.00</td>\n",
       "      <td>6.00</td>\n",
       "      <td>0.00</td>\n",
       "      <td>20.00</td>\n",
       "      <td>1019.70</td>\n",
       "      <td>-1.00</td>\n",
       "      <td>0.00</td>\n",
       "      <td>C3</td>\n",
       "      <td>W1</td>\n",
       "    </tr>\n",
       "    <tr>\n",
       "      <th>4</th>\n",
       "      <td>fid_62402</td>\n",
       "      <td>10833.14</td>\n",
       "      <td>Obery Farms</td>\n",
       "      <td>location 7369</td>\n",
       "      <td>2016-01-01 00:00:00</td>\n",
       "      <td>ing_w</td>\n",
       "      <td>0.00</td>\n",
       "      <td>25.00</td>\n",
       "      <td>6.00</td>\n",
       "      <td>0.00</td>\n",
       "      <td>20.00</td>\n",
       "      <td>1019.70</td>\n",
       "      <td>-1.00</td>\n",
       "      <td>0.00</td>\n",
       "      <td>C3</td>\n",
       "      <td>W1</td>\n",
       "    </tr>\n",
       "  </tbody>\n",
       "</table>\n",
       "</div>"
      ],
      "text/plain": [
       "      farm_id  farm_area  ... cloudiness_cat wind_speed_cat\n",
       "0  fid_110884     690.46  ...             C3             W1\n",
       "1   fid_90053     252.70  ...             C3             W1\n",
       "2   fid_17537     499.45  ...             C3             W1\n",
       "3  fid_110392    2200.41  ...             C3             W1\n",
       "4   fid_62402   10833.14  ...             C3             W1\n",
       "\n",
       "[5 rows x 16 columns]"
      ]
     },
     "execution_count": 18,
     "metadata": {
      "tags": []
     },
     "output_type": "execute_result"
    }
   ],
   "source": [
    "bins = [0,5,10,15,20]\n",
    "grp = [\"W1\",\"W2\",\"W3\",\"W4\",]\n",
    "df[\"wind_speed_cat\"] = pd.cut(df[\"wind_speed\"],bins,labels= grp,include_lowest=True)\n",
    "df.head()"
   ]
  },
  {
   "cell_type": "code",
   "execution_count": 19,
   "metadata": {
    "colab": {
     "base_uri": "https://localhost:8080/",
     "height": 102
    },
    "colab_type": "code",
    "id": "47QrV2UjDn1d",
    "outputId": "c91646e3-7797-464e-8a3c-bad7910a9744"
   },
   "outputs": [
    {
     "data": {
      "text/plain": [
       "Index(['farm_id', 'farm_area', 'farming_company', 'deidentified_location',\n",
       "       'date', 'ingredient_type', 'yield', 'temp_obs', 'cloudiness',\n",
       "       'wind_direction', 'dew_temp', 'pressure_sea_level', 'precipitation',\n",
       "       'wind_speed', 'cloudiness_cat', 'wind_speed_cat'],\n",
       "      dtype='object')"
      ]
     },
     "execution_count": 19,
     "metadata": {
      "tags": []
     },
     "output_type": "execute_result"
    }
   ],
   "source": [
    "df.columns"
   ]
  },
  {
   "cell_type": "markdown",
   "metadata": {
    "colab_type": "text",
    "id": "APAib8WlG6Aa"
   },
   "source": [
    "# Deleting the Columns:"
   ]
  },
  {
   "cell_type": "code",
   "execution_count": 0,
   "metadata": {
    "colab": {},
    "colab_type": "code",
    "id": "pZXRiBOV9rUK"
   },
   "outputs": [],
   "source": [
    "del df['farming_company']\n",
    "del df['cloudiness']\n",
    "del df['wind_speed']\n",
    "del df['pressure_sea_level']\n",
    "del df['dew_temp']\n",
    "del df['wind_direction']"
   ]
  },
  {
   "cell_type": "code",
   "execution_count": 0,
   "metadata": {
    "colab": {
     "base_uri": "https://localhost:8080/",
     "height": 204
    },
    "colab_type": "code",
    "id": "8RB7pG7sKsff",
    "outputId": "ff9262e0-7194-4c0b-b52a-dfd3c31af6f3"
   },
   "outputs": [
    {
     "data": {
      "text/html": [
       "<div>\n",
       "<style scoped>\n",
       "    .dataframe tbody tr th:only-of-type {\n",
       "        vertical-align: middle;\n",
       "    }\n",
       "\n",
       "    .dataframe tbody tr th {\n",
       "        vertical-align: top;\n",
       "    }\n",
       "\n",
       "    .dataframe thead th {\n",
       "        text-align: right;\n",
       "    }\n",
       "</style>\n",
       "<table border=\"1\" class=\"dataframe\">\n",
       "  <thead>\n",
       "    <tr style=\"text-align: right;\">\n",
       "      <th></th>\n",
       "      <th>farm_id</th>\n",
       "      <th>farm_area</th>\n",
       "      <th>deidentified_location</th>\n",
       "      <th>date</th>\n",
       "      <th>ingredient_type</th>\n",
       "      <th>yield</th>\n",
       "      <th>temp_obs</th>\n",
       "      <th>precipitation</th>\n",
       "      <th>cloudiness_cat</th>\n",
       "      <th>wind_speed_cat</th>\n",
       "    </tr>\n",
       "  </thead>\n",
       "  <tbody>\n",
       "    <tr>\n",
       "      <th>0</th>\n",
       "      <td>fid_110884</td>\n",
       "      <td>690.46</td>\n",
       "      <td>location 7369</td>\n",
       "      <td>2016-01-01 00:00:00</td>\n",
       "      <td>ing_w</td>\n",
       "      <td>0.00</td>\n",
       "      <td>25.00</td>\n",
       "      <td>-1.00</td>\n",
       "      <td>C3</td>\n",
       "      <td>W1</td>\n",
       "    </tr>\n",
       "    <tr>\n",
       "      <th>1</th>\n",
       "      <td>fid_90053</td>\n",
       "      <td>252.70</td>\n",
       "      <td>location 7369</td>\n",
       "      <td>2016-01-01 00:00:00</td>\n",
       "      <td>ing_w</td>\n",
       "      <td>0.00</td>\n",
       "      <td>25.00</td>\n",
       "      <td>-1.00</td>\n",
       "      <td>C3</td>\n",
       "      <td>W1</td>\n",
       "    </tr>\n",
       "    <tr>\n",
       "      <th>2</th>\n",
       "      <td>fid_17537</td>\n",
       "      <td>499.45</td>\n",
       "      <td>location 7369</td>\n",
       "      <td>2016-01-01 00:00:00</td>\n",
       "      <td>ing_w</td>\n",
       "      <td>0.00</td>\n",
       "      <td>25.00</td>\n",
       "      <td>-1.00</td>\n",
       "      <td>C3</td>\n",
       "      <td>W1</td>\n",
       "    </tr>\n",
       "    <tr>\n",
       "      <th>3</th>\n",
       "      <td>fid_110392</td>\n",
       "      <td>2200.41</td>\n",
       "      <td>location 7369</td>\n",
       "      <td>2016-01-01 00:00:00</td>\n",
       "      <td>ing_w</td>\n",
       "      <td>0.00</td>\n",
       "      <td>25.00</td>\n",
       "      <td>-1.00</td>\n",
       "      <td>C3</td>\n",
       "      <td>W1</td>\n",
       "    </tr>\n",
       "    <tr>\n",
       "      <th>4</th>\n",
       "      <td>fid_62402</td>\n",
       "      <td>10833.14</td>\n",
       "      <td>location 7369</td>\n",
       "      <td>2016-01-01 00:00:00</td>\n",
       "      <td>ing_w</td>\n",
       "      <td>0.00</td>\n",
       "      <td>25.00</td>\n",
       "      <td>-1.00</td>\n",
       "      <td>C3</td>\n",
       "      <td>W1</td>\n",
       "    </tr>\n",
       "  </tbody>\n",
       "</table>\n",
       "</div>"
      ],
      "text/plain": [
       "      farm_id  farm_area  ... cloudiness_cat wind_speed_cat\n",
       "0  fid_110884     690.46  ...             C3             W1\n",
       "1   fid_90053     252.70  ...             C3             W1\n",
       "2   fid_17537     499.45  ...             C3             W1\n",
       "3  fid_110392    2200.41  ...             C3             W1\n",
       "4   fid_62402   10833.14  ...             C3             W1\n",
       "\n",
       "[5 rows x 10 columns]"
      ]
     },
     "execution_count": 26,
     "metadata": {
      "tags": []
     },
     "output_type": "execute_result"
    }
   ],
   "source": [
    "df.head()"
   ]
  },
  {
   "cell_type": "code",
   "execution_count": 0,
   "metadata": {
    "colab": {},
    "colab_type": "code",
    "id": "tahgb_oxK2Kt"
   },
   "outputs": [],
   "source": [
    "cat_cols = ['farm_id',  'deidentified_location', 'ingredient_type', 'cloudiness_cat','wind_speed_cat' ]"
   ]
  },
  {
   "cell_type": "code",
   "execution_count": 22,
   "metadata": {
    "colab": {
     "base_uri": "https://localhost:8080/",
     "height": 34
    },
    "colab_type": "code",
    "id": "6Qwhw0dmK_42",
    "outputId": "d0dfbb25-fbc0-4160-f78c-761fb983d18d"
   },
   "outputs": [
    {
     "data": {
      "text/plain": [
       "Index(['farm_area', 'date', 'temp_obs', 'precipitation'], dtype='object')"
      ]
     },
     "execution_count": 22,
     "metadata": {
      "tags": []
     },
     "output_type": "execute_result"
    }
   ],
   "source": [
    "num_cols = df.columns[~df.columns.isin(cat_cols)]\n",
    "num_cols = num_cols.drop('yield')\n",
    "num_cols"
   ]
  },
  {
   "cell_type": "code",
   "execution_count": 0,
   "metadata": {
    "colab": {},
    "colab_type": "code",
    "id": "SsPcQdrPLDlv"
   },
   "outputs": [],
   "source": [
    "df.set_index(\"date\", inplace = True) \n"
   ]
  },
  {
   "cell_type": "markdown",
   "metadata": {
    "colab_type": "text",
    "id": "8FeIUcqTJlDb"
   },
   "source": [
    "## Changing the dtypes:"
   ]
  },
  {
   "cell_type": "code",
   "execution_count": 24,
   "metadata": {
    "colab": {
     "base_uri": "https://localhost:8080/",
     "height": 187
    },
    "colab_type": "code",
    "id": "WN1cpwDeLHc-",
    "outputId": "7e445202-408a-4537-8b83-4ddd7ffa065e",
    "scrolled": true
   },
   "outputs": [
    {
     "data": {
      "text/plain": [
       "farm_id                  category\n",
       "farm_area                 float64\n",
       "deidentified_location    category\n",
       "ingredient_type          category\n",
       "yield                     float64\n",
       "temp_obs                  float64\n",
       "precipitation             float64\n",
       "cloudiness_cat           category\n",
       "wind_speed_cat           category\n",
       "dtype: object"
      ]
     },
     "execution_count": 24,
     "metadata": {
      "tags": []
     },
     "output_type": "execute_result"
    }
   ],
   "source": [
    "for col in['farm_id',  'deidentified_location', 'ingredient_type', 'cloudiness_cat','wind_speed_cat']:\n",
    "    df[col]= df[col].astype('category') \n",
    "df.dtypes\n"
   ]
  },
  {
   "cell_type": "markdown",
   "metadata": {},
   "source": [
    "# Dependent & Independent: "
   ]
  },
  {
   "cell_type": "code",
   "execution_count": 0,
   "metadata": {
    "colab": {},
    "colab_type": "code",
    "id": "4N_AHAl6LZtW"
   },
   "outputs": [],
   "source": [
    "X = df.drop('yield',  axis = 1)\n",
    "y = df[\"yield\"]"
   ]
  },
  {
   "cell_type": "markdown",
   "metadata": {
    "colab_type": "text",
    "id": "-eymh594JVQ6"
   },
   "source": [
    "# Train-Test-Split:"
   ]
  },
  {
   "cell_type": "code",
   "execution_count": 0,
   "metadata": {
    "colab": {},
    "colab_type": "code",
    "id": "LJt1XaDtLdNX"
   },
   "outputs": [],
   "source": [
    "from sklearn.model_selection import train_test_split\n",
    "X_train, X_test, y_train, y_test = train_test_split(X, y, test_size = 0.3 , random_state = 123)"
   ]
  },
  {
   "cell_type": "markdown",
   "metadata": {
    "colab_type": "text",
    "id": "im9SSnvtJMGr"
   },
   "source": [
    "# One Hot Encoding:"
   ]
  },
  {
   "cell_type": "code",
   "execution_count": 0,
   "metadata": {
    "colab": {},
    "colab_type": "code",
    "id": "7gM42AGmLiJd"
   },
   "outputs": [],
   "source": [
    "from sklearn.preprocessing import OneHotEncoder\n",
    "one = OneHotEncoder(handle_unknown = 'ignore')\n",
    "X_train = one.fit_transform(X_train[cat_cols])\n",
    "X_test = one.transform(X_test[cat_cols])"
   ]
  },
  {
   "cell_type": "markdown",
   "metadata": {
    "colab_type": "text",
    "id": "csRAvLE3JB7E"
   },
   "source": [
    "# Model Evaluation:"
   ]
  },
  {
   "cell_type": "code",
   "execution_count": 0,
   "metadata": {
    "colab": {},
    "colab_type": "code",
    "id": "qBV99dwAMCwY"
   },
   "outputs": [],
   "source": [
    "from sklearn.metrics import mean_absolute_error, mean_squared_error\n",
    "def model_evaluation(actuals, predictions):\n",
    "    print('RMSE, MAE :')\n",
    "    rms = np.sqrt(mean_squared_error(actuals, predictions))\n",
    "    mae = mean_absolute_error(actuals, predictions)\n",
    "    return rms, mae\n"
   ]
  },
  {
   "cell_type": "markdown",
   "metadata": {},
   "source": [
    "# 1. LightGBM:"
   ]
  },
  {
   "cell_type": "code",
   "execution_count": 0,
   "metadata": {
    "colab": {},
    "colab_type": "code",
    "id": "uTNJ1IexMJ6_"
   },
   "outputs": [],
   "source": [
    "import lightgbm as lgb\n"
   ]
  },
  {
   "cell_type": "code",
   "execution_count": 0,
   "metadata": {
    "colab": {},
    "colab_type": "code",
    "id": "Be1qf4q2vbEF"
   },
   "outputs": [],
   "source": [
    "lg = lgb.LGBMRegressor()"
   ]
  },
  {
   "cell_type": "code",
   "execution_count": 0,
   "metadata": {
    "colab": {},
    "colab_type": "code",
    "id": "MEdgtyeu5GEZ"
   },
   "outputs": [],
   "source": [
    "lg.fit(X_train, y_train)\n",
    "pred_train_lg = lg.predict(X_train)\n",
    "pred_test_lg = lg.predict(X_test)"
   ]
  },
  {
   "cell_type": "code",
   "execution_count": 42,
   "metadata": {
    "colab": {
     "base_uri": "https://localhost:8080/",
     "height": 51
    },
    "colab_type": "code",
    "id": "lT6lrSPc5lm4",
    "outputId": "73bd576d-7b7b-45b8-87f4-8562666fe5cc"
   },
   "outputs": [
    {
     "name": "stdout",
     "output_type": "stream",
     "text": [
      "RMSE, MAE :\n"
     ]
    },
    {
     "data": {
      "text/plain": [
       "(128974.36610291134, 2503.571154596569)"
      ]
     },
     "execution_count": 42,
     "metadata": {
      "tags": []
     },
     "output_type": "execute_result"
    }
   ],
   "source": [
    "model_evaluation(y_train , pred_train_lg)\n"
   ]
  },
  {
   "cell_type": "code",
   "execution_count": 0,
   "metadata": {
    "colab": {
     "base_uri": "https://localhost:8080/",
     "height": 34
    },
    "colab_type": "code",
    "id": "jKeB2DyY5qhF",
    "outputId": "113aa338-1d6f-40f8-a140-424d4aac48a0"
   },
   "outputs": [
    {
     "name": "stdout",
     "output_type": "stream",
     "text": [
      "RMSE, MAE :\n"
     ]
    }
   ],
   "source": [
    "LG_RMSE, LG_MAE = model_evaluation(y_test , pred_test_lg)\n"
   ]
  },
  {
   "cell_type": "markdown",
   "metadata": {},
   "source": [
    "# 2. AdaBoost:"
   ]
  },
  {
   "cell_type": "code",
   "execution_count": 0,
   "metadata": {
    "colab": {},
    "colab_type": "code",
    "id": "2-BViK786jQM"
   },
   "outputs": [],
   "source": [
    "from sklearn.ensemble import AdaBoostRegressor\n",
    "ad = AdaBoostRegressor()\n"
   ]
  },
  {
   "cell_type": "code",
   "execution_count": 0,
   "metadata": {
    "colab": {},
    "colab_type": "code",
    "id": "7Hppm4Fs7Adq"
   },
   "outputs": [],
   "source": [
    "ad.fit(X_train, y_train)\n",
    "pred_train_ad = ad.predict(X_train)\n",
    "pred_test_ad = ad.predict(X_test)"
   ]
  },
  {
   "cell_type": "code",
   "execution_count": 0,
   "metadata": {
    "colab": {
     "base_uri": "https://localhost:8080/",
     "height": 51
    },
    "colab_type": "code",
    "id": "Q2LMXCq08A1p",
    "outputId": "33d676e2-cf22-4338-87fe-c5900da3e4eb"
   },
   "outputs": [
    {
     "name": "stdout",
     "output_type": "stream",
     "text": [
      "RMSE, MAE :\n"
     ]
    },
    {
     "data": {
      "text/plain": [
       "(129830.19461220579, 2750.0211554854222)"
      ]
     },
     "execution_count": 42,
     "metadata": {
      "tags": []
     },
     "output_type": "execute_result"
    }
   ],
   "source": [
    "model_evaluation(y_train , pred_train_ad)\n"
   ]
  },
  {
   "cell_type": "code",
   "execution_count": 0,
   "metadata": {
    "colab": {
     "base_uri": "https://localhost:8080/",
     "height": 34
    },
    "colab_type": "code",
    "id": "vVQVMHEH8FAz",
    "outputId": "c8adbe7f-a672-488b-ca41-1018b05907dd"
   },
   "outputs": [
    {
     "name": "stdout",
     "output_type": "stream",
     "text": [
      "RMSE, MAE :\n"
     ]
    }
   ],
   "source": [
    "AD_RMSE, AD_MAE = model_evaluation(y_test , pred_test_ad)\n"
   ]
  },
  {
   "cell_type": "markdown",
   "metadata": {},
   "source": [
    "# 3. XGBoost:"
   ]
  },
  {
   "cell_type": "code",
   "execution_count": 0,
   "metadata": {
    "colab": {},
    "colab_type": "code",
    "id": "PrS6FpOF8Q2a"
   },
   "outputs": [],
   "source": [
    "import xgboost as xgb\n",
    "xg = xgb.XGBRegressor()"
   ]
  },
  {
   "cell_type": "code",
   "execution_count": 0,
   "metadata": {
    "colab": {},
    "colab_type": "code",
    "id": "HDUCSBAq8Tr6"
   },
   "outputs": [],
   "source": [
    "xg.fit(X_train, y_train)\n",
    "pred_train_xg = xg.predict(X_train)\n",
    "pred_test_xg = xg.predict(X_test)"
   ]
  },
  {
   "cell_type": "code",
   "execution_count": 0,
   "metadata": {
    "colab": {
     "base_uri": "https://localhost:8080/",
     "height": 51
    },
    "colab_type": "code",
    "id": "Nmeg8T6V8bH2",
    "outputId": "87912f2f-147b-4178-cff2-3844369eaa0f"
   },
   "outputs": [
    {
     "name": "stdout",
     "output_type": "stream",
     "text": [
      "RMSE, MAE :\n"
     ]
    },
    {
     "data": {
      "text/plain": [
       "(129075.32255237561, 2621.865139594111)"
      ]
     },
     "execution_count": 46,
     "metadata": {
      "tags": []
     },
     "output_type": "execute_result"
    }
   ],
   "source": [
    "model_evaluation(y_train , pred_train_xg)\n"
   ]
  },
  {
   "cell_type": "code",
   "execution_count": 0,
   "metadata": {
    "colab": {
     "base_uri": "https://localhost:8080/",
     "height": 34
    },
    "colab_type": "code",
    "id": "SISBL0vP8cOj",
    "outputId": "3e80ed3d-0947-4ea5-d6a1-fe41dbdf25e1"
   },
   "outputs": [
    {
     "name": "stdout",
     "output_type": "stream",
     "text": [
      "RMSE, MAE :\n"
     ]
    }
   ],
   "source": [
    "XG_RMSE, XG_MAE= model_evaluation(y_test , pred_test_xg)"
   ]
  },
  {
   "cell_type": "markdown",
   "metadata": {},
   "source": [
    "# 4. CatBoost:"
   ]
  },
  {
   "cell_type": "code",
   "execution_count": 0,
   "metadata": {
    "colab": {},
    "colab_type": "code",
    "id": "aT6oUCxbAguZ"
   },
   "outputs": [],
   "source": [
    "!pip install catboost"
   ]
  },
  {
   "cell_type": "code",
   "execution_count": 0,
   "metadata": {
    "colab": {},
    "colab_type": "code",
    "id": "_-WG1YUuALpQ"
   },
   "outputs": [],
   "source": [
    "from catboost import CatBoostRegressor\n",
    "cb = CatBoostRegressor()"
   ]
  },
  {
   "cell_type": "code",
   "execution_count": 0,
   "metadata": {
    "colab": {},
    "colab_type": "code",
    "id": "hGFlF2ScAqn_"
   },
   "outputs": [],
   "source": [
    "cb.fit(X_train, y_train)\n",
    "pred_train_cb = cb.predict(X_train)\n",
    "pred_test_cb = cb.predict(X_test)"
   ]
  },
  {
   "cell_type": "code",
   "execution_count": 0,
   "metadata": {
    "colab": {
     "base_uri": "https://localhost:8080/",
     "height": 51
    },
    "colab_type": "code",
    "id": "3I5WKANXA6GK",
    "outputId": "82d8a716-ff45-443d-c918-5d2769748743"
   },
   "outputs": [
    {
     "name": "stdout",
     "output_type": "stream",
     "text": [
      "RMSE, MAE :\n"
     ]
    },
    {
     "data": {
      "text/plain": [
       "(128973.25830061051, 2519.223619187128)"
      ]
     },
     "execution_count": 53,
     "metadata": {
      "tags": []
     },
     "output_type": "execute_result"
    }
   ],
   "source": [
    "model_evaluation(y_train , pred_train_cb)\n",
    "\n"
   ]
  },
  {
   "cell_type": "code",
   "execution_count": 0,
   "metadata": {
    "colab": {
     "base_uri": "https://localhost:8080/",
     "height": 34
    },
    "colab_type": "code",
    "id": "TkHh_9ETA-nu",
    "outputId": "b7eb773e-47ad-4552-fff7-29a6299b6b1d"
   },
   "outputs": [
    {
     "name": "stdout",
     "output_type": "stream",
     "text": [
      "RMSE, MAE :\n"
     ]
    }
   ],
   "source": [
    "CT_RMSE, CT_MAE= model_evaluation(y_test , pred_test_cb)\n"
   ]
  },
  {
   "cell_type": "markdown",
   "metadata": {},
   "source": [
    "# 5. GradientBoosting:"
   ]
  },
  {
   "cell_type": "code",
   "execution_count": 0,
   "metadata": {
    "colab": {},
    "colab_type": "code",
    "id": "vJvNoi7PBnk6"
   },
   "outputs": [],
   "source": [
    "from sklearn.ensemble import GradientBoostingRegressor"
   ]
  },
  {
   "cell_type": "code",
   "execution_count": 0,
   "metadata": {
    "colab": {},
    "colab_type": "code",
    "id": "3m7LA5J8F4Eo"
   },
   "outputs": [],
   "source": [
    "gbm = GradientBoostingRegressor()"
   ]
  },
  {
   "cell_type": "code",
   "execution_count": 0,
   "metadata": {
    "colab": {},
    "colab_type": "code",
    "id": "zzp-3pxBF7b5"
   },
   "outputs": [],
   "source": [
    "gbm.fit(X_train, y_train)\n",
    "pred_train_gbm = gbm.predict(X_train)\n",
    "pred_test_gbm = gbm.predict(X_test)"
   ]
  },
  {
   "cell_type": "code",
   "execution_count": 0,
   "metadata": {
    "colab": {
     "base_uri": "https://localhost:8080/",
     "height": 51
    },
    "colab_type": "code",
    "id": "vqWcMGSYGWMi",
    "outputId": "6c57dba7-8dfe-4430-9afc-36f3166e7353"
   },
   "outputs": [
    {
     "name": "stdout",
     "output_type": "stream",
     "text": [
      "RMSE, MAE :\n"
     ]
    },
    {
     "data": {
      "text/plain": [
       "(129077.73611138825, 2622.237857401635)"
      ]
     },
     "execution_count": 58,
     "metadata": {
      "tags": []
     },
     "output_type": "execute_result"
    }
   ],
   "source": [
    "model_evaluation(y_train , pred_train_gbm)\n"
   ]
  },
  {
   "cell_type": "code",
   "execution_count": 0,
   "metadata": {
    "colab": {
     "base_uri": "https://localhost:8080/",
     "height": 34
    },
    "colab_type": "code",
    "id": "BBrbtRYDF4B5",
    "outputId": "3ad781f4-32a2-4cec-ac05-fc2e2a026fc5"
   },
   "outputs": [
    {
     "name": "stdout",
     "output_type": "stream",
     "text": [
      "RMSE, MAE :\n"
     ]
    }
   ],
   "source": [
    "GB_RMSE, GB_MAE= model_evaluation(y_test , pred_test_gbm)\n"
   ]
  },
  {
   "cell_type": "markdown",
   "metadata": {},
   "source": [
    "# 6. Decision Tree:"
   ]
  },
  {
   "cell_type": "code",
   "execution_count": 0,
   "metadata": {
    "colab": {},
    "colab_type": "code",
    "id": "9jdlJd5mNoGQ"
   },
   "outputs": [],
   "source": [
    "from sklearn.tree import DecisionTreeRegressor\n",
    "\n",
    "dtr = DecisionTreeRegressor()"
   ]
  },
  {
   "cell_type": "code",
   "execution_count": 0,
   "metadata": {
    "colab": {},
    "colab_type": "code",
    "id": "zwzkWTPlNq9l"
   },
   "outputs": [],
   "source": [
    "dtr.fit(X_train, y_train)\n",
    "pred_train_dtr = dtr.predict(X_train)\n",
    "pred_test_dtr = dtr.predict(X_test)"
   ]
  },
  {
   "cell_type": "code",
   "execution_count": 0,
   "metadata": {
    "colab": {
     "base_uri": "https://localhost:8080/",
     "height": 51
    },
    "colab_type": "code",
    "id": "LVVLHGnzOm7N",
    "outputId": "f7b5e6ba-1cdf-4007-a37b-667e252ae1fd"
   },
   "outputs": [
    {
     "name": "stdout",
     "output_type": "stream",
     "text": [
      "RMSE, MAE :\n"
     ]
    },
    {
     "data": {
      "text/plain": [
       "(128969.03617044167, 2407.1096090270094)"
      ]
     },
     "execution_count": 62,
     "metadata": {
      "tags": []
     },
     "output_type": "execute_result"
    }
   ],
   "source": [
    "model_evaluation(y_train , pred_train_dtr)\n"
   ]
  },
  {
   "cell_type": "code",
   "execution_count": 0,
   "metadata": {
    "colab": {
     "base_uri": "https://localhost:8080/",
     "height": 34
    },
    "colab_type": "code",
    "id": "R7uN2HJ5OqoP",
    "outputId": "fd0f8fe2-8eef-4024-9d4a-a7803e6358d0"
   },
   "outputs": [
    {
     "name": "stdout",
     "output_type": "stream",
     "text": [
      "RMSE, MAE :\n"
     ]
    }
   ],
   "source": [
    "DTR_RMSE, DTR_MAE = model_evaluation(y_test , pred_test_dtr)\n"
   ]
  },
  {
   "cell_type": "markdown",
   "metadata": {},
   "source": [
    "# 7. Linear Regression:"
   ]
  },
  {
   "cell_type": "code",
   "execution_count": 0,
   "metadata": {
    "colab": {},
    "colab_type": "code",
    "id": "oDAKOZqlP_Pn"
   },
   "outputs": [],
   "source": [
    "from sklearn import linear_model \n",
    "reg = linear_model.LinearRegression() \n"
   ]
  },
  {
   "cell_type": "code",
   "execution_count": 0,
   "metadata": {
    "colab": {},
    "colab_type": "code",
    "id": "EYz4vcx2QFld"
   },
   "outputs": [],
   "source": [
    "reg.fit(X_train, y_train)\n",
    "pred_train_lr = reg.predict(X_train)\n",
    "pred_test_lr = reg.predict(X_test)"
   ]
  },
  {
   "cell_type": "code",
   "execution_count": 0,
   "metadata": {
    "colab": {
     "base_uri": "https://localhost:8080/",
     "height": 51
    },
    "colab_type": "code",
    "id": "avqu3YhiQJk0",
    "outputId": "daa7bf16-3230-4479-c1be-2a5c35f32bd8"
   },
   "outputs": [
    {
     "name": "stdout",
     "output_type": "stream",
     "text": [
      "RMSE, MAE :\n"
     ]
    },
    {
     "data": {
      "text/plain": [
       "(141806.2464364133, 5104.627126564812)"
      ]
     },
     "execution_count": 66,
     "metadata": {
      "tags": []
     },
     "output_type": "execute_result"
    }
   ],
   "source": [
    "model_evaluation(y_train , pred_train_lr)\n"
   ]
  },
  {
   "cell_type": "code",
   "execution_count": 0,
   "metadata": {
    "colab": {
     "base_uri": "https://localhost:8080/",
     "height": 34
    },
    "colab_type": "code",
    "id": "v_Ofpbz6QPOZ",
    "outputId": "0af83482-0a4a-407b-9bd0-8c9ff84abbdb"
   },
   "outputs": [
    {
     "name": "stdout",
     "output_type": "stream",
     "text": [
      "RMSE, MAE :\n"
     ]
    }
   ],
   "source": [
    "LR_RMSE, LR_MAE = model_evaluation(y_test , pred_test_lr)\n"
   ]
  },
  {
   "cell_type": "code",
   "execution_count": 0,
   "metadata": {
    "colab": {},
    "colab_type": "code",
    "id": "85lwWiIcWbjP"
   },
   "outputs": [],
   "source": [
    "DTR = [DTR_RMSE, DTR_MAE]\n",
    "LR = [LR_RMSE, LR_MAE]\n",
    "AD = [AD_RMSE, AD_MAE]\n",
    "XG = [XG_RMSE, XG_MAE]\n",
    "GBM = [GB_RMSE, GB_MAE]\n",
    "LGB = [LG_RMSE, LG_MAE]\n",
    "CAT = [CT_RMSE, CT_MAE]"
   ]
  },
  {
   "cell_type": "code",
   "execution_count": 0,
   "metadata": {
    "colab": {},
    "colab_type": "code",
    "id": "WJk0RanxY_db"
   },
   "outputs": [],
   "source": [
    "Model = pd.DataFrame([LR, AD, XG, DTR, GBM, LGB, CAT], columns = ['RMSE', 'MAE'], index = ['Liner', 'AdaBoost', 'XGBoost', 'Decision Tree', 'GradientBoosting', 'LightGB', 'CatBoost'])"
   ]
  },
  {
   "cell_type": "code",
   "execution_count": 0,
   "metadata": {
    "colab": {
     "base_uri": "https://localhost:8080/",
     "height": 266
    },
    "colab_type": "code",
    "id": "2vFY-m2YZYxQ",
    "outputId": "8ea45d3c-1a87-4973-c3ee-2344b49e16bf"
   },
   "outputs": [
    {
     "data": {
      "text/html": [
       "<div>\n",
       "<style scoped>\n",
       "    .dataframe tbody tr th:only-of-type {\n",
       "        vertical-align: middle;\n",
       "    }\n",
       "\n",
       "    .dataframe tbody tr th {\n",
       "        vertical-align: top;\n",
       "    }\n",
       "\n",
       "    .dataframe thead th {\n",
       "        text-align: right;\n",
       "    }\n",
       "</style>\n",
       "<table border=\"1\" class=\"dataframe\">\n",
       "  <thead>\n",
       "    <tr style=\"text-align: right;\">\n",
       "      <th></th>\n",
       "      <th>RMSE</th>\n",
       "      <th>MAE</th>\n",
       "    </tr>\n",
       "  </thead>\n",
       "  <tbody>\n",
       "    <tr>\n",
       "      <th>Liner</th>\n",
       "      <td>140720.42</td>\n",
       "      <td>5081.29</td>\n",
       "    </tr>\n",
       "    <tr>\n",
       "      <th>AdaBoost</th>\n",
       "      <td>128766.41</td>\n",
       "      <td>2727.89</td>\n",
       "    </tr>\n",
       "    <tr>\n",
       "      <th>XGBoost</th>\n",
       "      <td>127763.13</td>\n",
       "      <td>2592.31</td>\n",
       "    </tr>\n",
       "    <tr>\n",
       "      <th>Decision Tree</th>\n",
       "      <td>127801.53</td>\n",
       "      <td>2380.44</td>\n",
       "    </tr>\n",
       "    <tr>\n",
       "      <th>GradientBoosting</th>\n",
       "      <td>127771.80</td>\n",
       "      <td>2592.73</td>\n",
       "    </tr>\n",
       "    <tr>\n",
       "      <th>LightGB</th>\n",
       "      <td>127807.11</td>\n",
       "      <td>2476.63</td>\n",
       "    </tr>\n",
       "    <tr>\n",
       "      <th>CatBoost</th>\n",
       "      <td>127797.10</td>\n",
       "      <td>2492.26</td>\n",
       "    </tr>\n",
       "  </tbody>\n",
       "</table>\n",
       "</div>"
      ],
      "text/plain": [
       "                      RMSE     MAE\n",
       "Liner            140720.42 5081.29\n",
       "AdaBoost         128766.41 2727.89\n",
       "XGBoost          127763.13 2592.31\n",
       "Decision Tree    127801.53 2380.44\n",
       "GradientBoosting 127771.80 2592.73\n",
       "LightGB          127807.11 2476.63\n",
       "CatBoost         127797.10 2492.26"
      ]
     },
     "execution_count": 77,
     "metadata": {
      "tags": []
     },
     "output_type": "execute_result"
    }
   ],
   "source": [
    "Model"
   ]
  },
  {
   "cell_type": "markdown",
   "metadata": {},
   "source": [
    "These are not the actual RMSE I got during model building.\n",
    "So ill tell which were the best model depending on their rmse values that i got.\n",
    "1. LightGBM\n",
    "2. CatBoost\n",
    "3. Neural Network (ANN)\n",
    "4. XgBoost\n",
    "5. AdaBoost\n",
    "6. GBM\n",
    "7. Decision Tree\n",
    "8. Linear Regression\n",
    "\n",
    "Linear Regression was giving negative yield during Predictions.\n",
    "Below i have shown ANN model ."
   ]
  },
  {
   "cell_type": "markdown",
   "metadata": {},
   "source": [
    "# Same PreProcessing For test data:"
   ]
  },
  {
   "cell_type": "code",
   "execution_count": 0,
   "metadata": {
    "colab": {},
    "colab_type": "code",
    "id": "GIM9MNMpMN_X"
   },
   "outputs": [],
   "source": [
    "test =pd.read_csv(\"/content/drive/My Drive/CSV/phd_test (1).csv\")"
   ]
  },
  {
   "cell_type": "code",
   "execution_count": 33,
   "metadata": {
    "colab": {
     "base_uri": "https://localhost:8080/",
     "height": 411
    },
    "colab_type": "code",
    "id": "f0nQUboRMTTV",
    "outputId": "e65461c1-7cff-4006-dea2-f5c80bceb87a"
   },
   "outputs": [
    {
     "data": {
      "text/html": [
       "<div>\n",
       "<style scoped>\n",
       "    .dataframe tbody tr th:only-of-type {\n",
       "        vertical-align: middle;\n",
       "    }\n",
       "\n",
       "    .dataframe tbody tr th {\n",
       "        vertical-align: top;\n",
       "    }\n",
       "\n",
       "    .dataframe thead th {\n",
       "        text-align: right;\n",
       "    }\n",
       "</style>\n",
       "<table border=\"1\" class=\"dataframe\">\n",
       "  <thead>\n",
       "    <tr style=\"text-align: right;\">\n",
       "      <th></th>\n",
       "      <th>Unnamed: 0</th>\n",
       "      <th>farm_id</th>\n",
       "      <th>farm_area</th>\n",
       "      <th>farming_company</th>\n",
       "      <th>deidentified_location</th>\n",
       "      <th>date</th>\n",
       "      <th>ingredient_type</th>\n",
       "      <th>id</th>\n",
       "      <th>temp_obs</th>\n",
       "      <th>cloudiness</th>\n",
       "      <th>wind_direction</th>\n",
       "      <th>dew_temp</th>\n",
       "      <th>pressure_sea_level</th>\n",
       "      <th>precipitation</th>\n",
       "      <th>wind_speed</th>\n",
       "      <th>cloudiness_cat</th>\n",
       "    </tr>\n",
       "  </thead>\n",
       "  <tbody>\n",
       "    <tr>\n",
       "      <th>0</th>\n",
       "      <td>0</td>\n",
       "      <td>fid_110884</td>\n",
       "      <td>690.46</td>\n",
       "      <td>Obery Farms</td>\n",
       "      <td>location 7369</td>\n",
       "      <td>2017-01-01 00:00:00</td>\n",
       "      <td>ing_w</td>\n",
       "      <td>0</td>\n",
       "      <td>17.80</td>\n",
       "      <td>4.00</td>\n",
       "      <td>100.00</td>\n",
       "      <td>11.70</td>\n",
       "      <td>1021.40</td>\n",
       "      <td>0.00</td>\n",
       "      <td>3.60</td>\n",
       "      <td>C2</td>\n",
       "    </tr>\n",
       "    <tr>\n",
       "      <th>1</th>\n",
       "      <td>1</td>\n",
       "      <td>fid_90053</td>\n",
       "      <td>252.70</td>\n",
       "      <td>Obery Farms</td>\n",
       "      <td>location 7369</td>\n",
       "      <td>2017-01-01 00:00:00</td>\n",
       "      <td>ing_w</td>\n",
       "      <td>1</td>\n",
       "      <td>17.80</td>\n",
       "      <td>4.00</td>\n",
       "      <td>100.00</td>\n",
       "      <td>11.70</td>\n",
       "      <td>1021.40</td>\n",
       "      <td>0.00</td>\n",
       "      <td>3.60</td>\n",
       "      <td>C2</td>\n",
       "    </tr>\n",
       "    <tr>\n",
       "      <th>2</th>\n",
       "      <td>2</td>\n",
       "      <td>fid_17537</td>\n",
       "      <td>499.45</td>\n",
       "      <td>Obery Farms</td>\n",
       "      <td>location 7369</td>\n",
       "      <td>2017-01-01 00:00:00</td>\n",
       "      <td>ing_w</td>\n",
       "      <td>2</td>\n",
       "      <td>17.80</td>\n",
       "      <td>4.00</td>\n",
       "      <td>100.00</td>\n",
       "      <td>11.70</td>\n",
       "      <td>1021.40</td>\n",
       "      <td>0.00</td>\n",
       "      <td>3.60</td>\n",
       "      <td>C2</td>\n",
       "    </tr>\n",
       "    <tr>\n",
       "      <th>3</th>\n",
       "      <td>3</td>\n",
       "      <td>fid_110392</td>\n",
       "      <td>2200.41</td>\n",
       "      <td>Obery Farms</td>\n",
       "      <td>location 7369</td>\n",
       "      <td>2017-01-01 00:00:00</td>\n",
       "      <td>ing_w</td>\n",
       "      <td>3</td>\n",
       "      <td>17.80</td>\n",
       "      <td>4.00</td>\n",
       "      <td>100.00</td>\n",
       "      <td>11.70</td>\n",
       "      <td>1021.40</td>\n",
       "      <td>0.00</td>\n",
       "      <td>3.60</td>\n",
       "      <td>C2</td>\n",
       "    </tr>\n",
       "    <tr>\n",
       "      <th>4</th>\n",
       "      <td>4</td>\n",
       "      <td>fid_62402</td>\n",
       "      <td>10833.14</td>\n",
       "      <td>Obery Farms</td>\n",
       "      <td>location 7369</td>\n",
       "      <td>2017-01-01 00:00:00</td>\n",
       "      <td>ing_w</td>\n",
       "      <td>4</td>\n",
       "      <td>17.80</td>\n",
       "      <td>4.00</td>\n",
       "      <td>100.00</td>\n",
       "      <td>11.70</td>\n",
       "      <td>1021.40</td>\n",
       "      <td>0.00</td>\n",
       "      <td>3.60</td>\n",
       "      <td>C2</td>\n",
       "    </tr>\n",
       "  </tbody>\n",
       "</table>\n",
       "</div>"
      ],
      "text/plain": [
       "   Unnamed: 0     farm_id  farm_area  ... precipitation wind_speed cloudiness_cat\n",
       "0           0  fid_110884     690.46  ...          0.00       3.60             C2\n",
       "1           1   fid_90053     252.70  ...          0.00       3.60             C2\n",
       "2           2   fid_17537     499.45  ...          0.00       3.60             C2\n",
       "3           3  fid_110392    2200.41  ...          0.00       3.60             C2\n",
       "4           4   fid_62402   10833.14  ...          0.00       3.60             C2\n",
       "\n",
       "[5 rows x 16 columns]"
      ]
     },
     "execution_count": 33,
     "metadata": {
      "tags": []
     },
     "output_type": "execute_result"
    }
   ],
   "source": [
    "bins = [0,2,4,6,8,10]\n",
    "grp = [\"C1\",\"C2\",\"C3\",\"C4\", \"C5\"]\n",
    "test[\"cloudiness_cat\"] = pd.cut(test[\"cloudiness\"],bins,labels= grp,include_lowest=True)\n",
    "test.head()"
   ]
  },
  {
   "cell_type": "code",
   "execution_count": 34,
   "metadata": {
    "colab": {
     "base_uri": "https://localhost:8080/",
     "height": 411
    },
    "colab_type": "code",
    "id": "xpYJ9M-jMVrG",
    "outputId": "a2b30617-295b-42c9-cec5-f9edc66961a9"
   },
   "outputs": [
    {
     "data": {
      "text/html": [
       "<div>\n",
       "<style scoped>\n",
       "    .dataframe tbody tr th:only-of-type {\n",
       "        vertical-align: middle;\n",
       "    }\n",
       "\n",
       "    .dataframe tbody tr th {\n",
       "        vertical-align: top;\n",
       "    }\n",
       "\n",
       "    .dataframe thead th {\n",
       "        text-align: right;\n",
       "    }\n",
       "</style>\n",
       "<table border=\"1\" class=\"dataframe\">\n",
       "  <thead>\n",
       "    <tr style=\"text-align: right;\">\n",
       "      <th></th>\n",
       "      <th>Unnamed: 0</th>\n",
       "      <th>farm_id</th>\n",
       "      <th>farm_area</th>\n",
       "      <th>farming_company</th>\n",
       "      <th>deidentified_location</th>\n",
       "      <th>date</th>\n",
       "      <th>ingredient_type</th>\n",
       "      <th>id</th>\n",
       "      <th>temp_obs</th>\n",
       "      <th>cloudiness</th>\n",
       "      <th>wind_direction</th>\n",
       "      <th>dew_temp</th>\n",
       "      <th>pressure_sea_level</th>\n",
       "      <th>precipitation</th>\n",
       "      <th>wind_speed</th>\n",
       "      <th>cloudiness_cat</th>\n",
       "      <th>wind_speed_cat</th>\n",
       "    </tr>\n",
       "  </thead>\n",
       "  <tbody>\n",
       "    <tr>\n",
       "      <th>0</th>\n",
       "      <td>0</td>\n",
       "      <td>fid_110884</td>\n",
       "      <td>690.46</td>\n",
       "      <td>Obery Farms</td>\n",
       "      <td>location 7369</td>\n",
       "      <td>2017-01-01 00:00:00</td>\n",
       "      <td>ing_w</td>\n",
       "      <td>0</td>\n",
       "      <td>17.80</td>\n",
       "      <td>4.00</td>\n",
       "      <td>100.00</td>\n",
       "      <td>11.70</td>\n",
       "      <td>1021.40</td>\n",
       "      <td>0.00</td>\n",
       "      <td>3.60</td>\n",
       "      <td>C2</td>\n",
       "      <td>W1</td>\n",
       "    </tr>\n",
       "    <tr>\n",
       "      <th>1</th>\n",
       "      <td>1</td>\n",
       "      <td>fid_90053</td>\n",
       "      <td>252.70</td>\n",
       "      <td>Obery Farms</td>\n",
       "      <td>location 7369</td>\n",
       "      <td>2017-01-01 00:00:00</td>\n",
       "      <td>ing_w</td>\n",
       "      <td>1</td>\n",
       "      <td>17.80</td>\n",
       "      <td>4.00</td>\n",
       "      <td>100.00</td>\n",
       "      <td>11.70</td>\n",
       "      <td>1021.40</td>\n",
       "      <td>0.00</td>\n",
       "      <td>3.60</td>\n",
       "      <td>C2</td>\n",
       "      <td>W1</td>\n",
       "    </tr>\n",
       "    <tr>\n",
       "      <th>2</th>\n",
       "      <td>2</td>\n",
       "      <td>fid_17537</td>\n",
       "      <td>499.45</td>\n",
       "      <td>Obery Farms</td>\n",
       "      <td>location 7369</td>\n",
       "      <td>2017-01-01 00:00:00</td>\n",
       "      <td>ing_w</td>\n",
       "      <td>2</td>\n",
       "      <td>17.80</td>\n",
       "      <td>4.00</td>\n",
       "      <td>100.00</td>\n",
       "      <td>11.70</td>\n",
       "      <td>1021.40</td>\n",
       "      <td>0.00</td>\n",
       "      <td>3.60</td>\n",
       "      <td>C2</td>\n",
       "      <td>W1</td>\n",
       "    </tr>\n",
       "    <tr>\n",
       "      <th>3</th>\n",
       "      <td>3</td>\n",
       "      <td>fid_110392</td>\n",
       "      <td>2200.41</td>\n",
       "      <td>Obery Farms</td>\n",
       "      <td>location 7369</td>\n",
       "      <td>2017-01-01 00:00:00</td>\n",
       "      <td>ing_w</td>\n",
       "      <td>3</td>\n",
       "      <td>17.80</td>\n",
       "      <td>4.00</td>\n",
       "      <td>100.00</td>\n",
       "      <td>11.70</td>\n",
       "      <td>1021.40</td>\n",
       "      <td>0.00</td>\n",
       "      <td>3.60</td>\n",
       "      <td>C2</td>\n",
       "      <td>W1</td>\n",
       "    </tr>\n",
       "    <tr>\n",
       "      <th>4</th>\n",
       "      <td>4</td>\n",
       "      <td>fid_62402</td>\n",
       "      <td>10833.14</td>\n",
       "      <td>Obery Farms</td>\n",
       "      <td>location 7369</td>\n",
       "      <td>2017-01-01 00:00:00</td>\n",
       "      <td>ing_w</td>\n",
       "      <td>4</td>\n",
       "      <td>17.80</td>\n",
       "      <td>4.00</td>\n",
       "      <td>100.00</td>\n",
       "      <td>11.70</td>\n",
       "      <td>1021.40</td>\n",
       "      <td>0.00</td>\n",
       "      <td>3.60</td>\n",
       "      <td>C2</td>\n",
       "      <td>W1</td>\n",
       "    </tr>\n",
       "  </tbody>\n",
       "</table>\n",
       "</div>"
      ],
      "text/plain": [
       "   Unnamed: 0     farm_id  farm_area  ... wind_speed cloudiness_cat wind_speed_cat\n",
       "0           0  fid_110884     690.46  ...       3.60             C2             W1\n",
       "1           1   fid_90053     252.70  ...       3.60             C2             W1\n",
       "2           2   fid_17537     499.45  ...       3.60             C2             W1\n",
       "3           3  fid_110392    2200.41  ...       3.60             C2             W1\n",
       "4           4   fid_62402   10833.14  ...       3.60             C2             W1\n",
       "\n",
       "[5 rows x 17 columns]"
      ]
     },
     "execution_count": 34,
     "metadata": {
      "tags": []
     },
     "output_type": "execute_result"
    }
   ],
   "source": [
    "bins = [0,5,10,15,20]\n",
    "grp = [\"W1\",\"W2\",\"W3\",\"W4\",]\n",
    "test[\"wind_speed_cat\"] = pd.cut(test[\"wind_speed\"],bins,labels= grp,include_lowest=True)\n",
    "test.head()"
   ]
  },
  {
   "cell_type": "code",
   "execution_count": 0,
   "metadata": {
    "colab": {},
    "colab_type": "code",
    "id": "RhKe5wSTMcQe"
   },
   "outputs": [],
   "source": [
    "test.set_index(\"date\", inplace = True) \n"
   ]
  },
  {
   "cell_type": "code",
   "execution_count": 0,
   "metadata": {
    "colab": {},
    "colab_type": "code",
    "id": "Pvl5hfoEMcm3"
   },
   "outputs": [],
   "source": [
    "del test['dew_temp']\n",
    "del test['wind_direction']\n",
    "del test['farming_company']\n",
    "del test['cloudiness']\n",
    "del test['wind_speed']\n",
    "del test['pressure_sea_level']\n",
    "del test['Unnamed: 0']"
   ]
  },
  {
   "cell_type": "code",
   "execution_count": 0,
   "metadata": {
    "colab": {},
    "colab_type": "code",
    "id": "z3BmkwDpM-bW"
   },
   "outputs": [],
   "source": [
    "cat_cols = ['farm_id', 'deidentified_location', 'ingredient_type','wind_speed_cat', 'cloudiness_cat' ]"
   ]
  },
  {
   "cell_type": "code",
   "execution_count": 0,
   "metadata": {
    "colab": {},
    "colab_type": "code",
    "id": "MM7vO8KWNH_8"
   },
   "outputs": [],
   "source": [
    "num_cols = df.columns[~df.columns.isin(cat_cols)]"
   ]
  },
  {
   "cell_type": "code",
   "execution_count": 39,
   "metadata": {
    "colab": {
     "base_uri": "https://localhost:8080/",
     "height": 187
    },
    "colab_type": "code",
    "id": "CI8t3_T0NI0K",
    "outputId": "b9293eb2-42e2-419e-ff46-a588d945ca55"
   },
   "outputs": [
    {
     "data": {
      "text/plain": [
       "farm_id                  category\n",
       "farm_area                 float64\n",
       "deidentified_location    category\n",
       "ingredient_type          category\n",
       "id                          int64\n",
       "temp_obs                  float64\n",
       "precipitation             float64\n",
       "cloudiness_cat           category\n",
       "wind_speed_cat           category\n",
       "dtype: object"
      ]
     },
     "execution_count": 39,
     "metadata": {
      "tags": []
     },
     "output_type": "execute_result"
    }
   ],
   "source": [
    "for col in['farm_id', 'deidentified_location', 'ingredient_type','wind_speed_cat', 'cloudiness_cat']:\n",
    "    test[col]= test[col].astype('category') \n",
    "test.dtypes\n"
   ]
  },
  {
   "cell_type": "code",
   "execution_count": 0,
   "metadata": {
    "colab": {},
    "colab_type": "code",
    "id": "RhSPp8wqOWhe"
   },
   "outputs": [],
   "source": []
  },
  {
   "cell_type": "code",
   "execution_count": 0,
   "metadata": {
    "colab": {
     "base_uri": "https://localhost:8080/",
     "height": 204
    },
    "colab_type": "code",
    "id": "Rt-T8p8MNbfx",
    "outputId": "48f38730-1fe4-45dc-e4f9-24b66ef32545"
   },
   "outputs": [
    {
     "data": {
      "text/plain": [
       "Unnamed: 0                  0\n",
       "farm_id                     0\n",
       "farm_area                   0\n",
       "deidentified_location       0\n",
       "ingredient_type             0\n",
       "id                          0\n",
       "temp_obs                    0\n",
       "precipitation               0\n",
       "cloudiness_cat              0\n",
       "wind_speed_cat           1079\n",
       "dtype: int64"
      ]
     },
     "execution_count": 95,
     "metadata": {
      "tags": []
     },
     "output_type": "execute_result"
    }
   ],
   "source": [
    "test.isnull().sum()"
   ]
  },
  {
   "cell_type": "code",
   "execution_count": 0,
   "metadata": {
    "colab": {},
    "colab_type": "code",
    "id": "bM1MhAQPOk4A"
   },
   "outputs": [],
   "source": [
    "test = test.fillna(method = 'ffill').fillna(method = 'bfill')\n"
   ]
  },
  {
   "cell_type": "code",
   "execution_count": 0,
   "metadata": {
    "colab": {},
    "colab_type": "code",
    "id": "LgpmfssbNcal"
   },
   "outputs": [],
   "source": [
    "from sklearn.preprocessing import OneHotEncoder\n",
    "ohe = OneHotEncoder(handle_unknown = 'ignore')\n",
    "test = ohe.fit_transform(test[cat_cols])"
   ]
  },
  {
   "cell_type": "code",
   "execution_count": 0,
   "metadata": {
    "colab": {},
    "colab_type": "code",
    "id": "Ah91rXpFRKzF"
   },
   "outputs": [],
   "source": [
    "ad_pred = ad.predict(test)"
   ]
  },
  {
   "cell_type": "code",
   "execution_count": 0,
   "metadata": {
    "colab": {},
    "colab_type": "code",
    "id": "XEC42pYVNf9F"
   },
   "outputs": [],
   "source": [
    "xg_pred = xg.predict(test)"
   ]
  },
  {
   "cell_type": "code",
   "execution_count": 0,
   "metadata": {
    "colab": {},
    "colab_type": "code",
    "id": "ZrlKaYlKN2kx"
   },
   "outputs": [],
   "source": [
    "cat_pred = cb.predict(test)"
   ]
  },
  {
   "cell_type": "code",
   "execution_count": 0,
   "metadata": {
    "colab": {},
    "colab_type": "code",
    "id": "-p9HYXPvb8T9"
   },
   "outputs": [],
   "source": [
    "gbm_pred = gbm.predict(test)"
   ]
  },
  {
   "cell_type": "code",
   "execution_count": 0,
   "metadata": {
    "colab": {},
    "colab_type": "code",
    "id": "20lLZe7RcE0T"
   },
   "outputs": [],
   "source": [
    "dtr_pred = dtr.predict(test)"
   ]
  },
  {
   "cell_type": "code",
   "execution_count": 0,
   "metadata": {
    "colab": {},
    "colab_type": "code",
    "id": "BPceHLrCcNaH"
   },
   "outputs": [],
   "source": [
    "reg_pred = reg.predict(test)"
   ]
  },
  {
   "cell_type": "code",
   "execution_count": 44,
   "metadata": {
    "colab": {
     "base_uri": "https://localhost:8080/",
     "height": 450
    },
    "colab_type": "code",
    "id": "V-FLKF8ngLC1",
    "outputId": "ee7fdc12-dd8f-4d39-df16-e7f48bba0118"
   },
   "outputs": [
    {
     "data": {
      "text/html": [
       "<div>\n",
       "<style scoped>\n",
       "    .dataframe tbody tr th:only-of-type {\n",
       "        vertical-align: middle;\n",
       "    }\n",
       "\n",
       "    .dataframe tbody tr th {\n",
       "        vertical-align: top;\n",
       "    }\n",
       "\n",
       "    .dataframe thead th {\n",
       "        text-align: right;\n",
       "    }\n",
       "</style>\n",
       "<table border=\"1\" class=\"dataframe\">\n",
       "  <thead>\n",
       "    <tr style=\"text-align: right;\">\n",
       "      <th></th>\n",
       "      <th>farm_id</th>\n",
       "      <th>farm_area</th>\n",
       "      <th>deidentified_location</th>\n",
       "      <th>ingredient_type</th>\n",
       "      <th>id</th>\n",
       "      <th>temp_obs</th>\n",
       "      <th>precipitation</th>\n",
       "      <th>cloudiness_cat</th>\n",
       "      <th>wind_speed_cat</th>\n",
       "    </tr>\n",
       "    <tr>\n",
       "      <th>date</th>\n",
       "      <th></th>\n",
       "      <th></th>\n",
       "      <th></th>\n",
       "      <th></th>\n",
       "      <th></th>\n",
       "      <th></th>\n",
       "      <th></th>\n",
       "      <th></th>\n",
       "      <th></th>\n",
       "    </tr>\n",
       "  </thead>\n",
       "  <tbody>\n",
       "    <tr>\n",
       "      <th>2017-01-01 00:00:00</th>\n",
       "      <td>fid_110884</td>\n",
       "      <td>690.46</td>\n",
       "      <td>location 7369</td>\n",
       "      <td>ing_w</td>\n",
       "      <td>0</td>\n",
       "      <td>17.80</td>\n",
       "      <td>0.00</td>\n",
       "      <td>C2</td>\n",
       "      <td>W1</td>\n",
       "    </tr>\n",
       "    <tr>\n",
       "      <th>2017-01-01 00:00:00</th>\n",
       "      <td>fid_90053</td>\n",
       "      <td>252.70</td>\n",
       "      <td>location 7369</td>\n",
       "      <td>ing_w</td>\n",
       "      <td>1</td>\n",
       "      <td>17.80</td>\n",
       "      <td>0.00</td>\n",
       "      <td>C2</td>\n",
       "      <td>W1</td>\n",
       "    </tr>\n",
       "    <tr>\n",
       "      <th>2017-01-01 00:00:00</th>\n",
       "      <td>fid_17537</td>\n",
       "      <td>499.45</td>\n",
       "      <td>location 7369</td>\n",
       "      <td>ing_w</td>\n",
       "      <td>2</td>\n",
       "      <td>17.80</td>\n",
       "      <td>0.00</td>\n",
       "      <td>C2</td>\n",
       "      <td>W1</td>\n",
       "    </tr>\n",
       "    <tr>\n",
       "      <th>2017-01-01 00:00:00</th>\n",
       "      <td>fid_110392</td>\n",
       "      <td>2200.41</td>\n",
       "      <td>location 7369</td>\n",
       "      <td>ing_w</td>\n",
       "      <td>3</td>\n",
       "      <td>17.80</td>\n",
       "      <td>0.00</td>\n",
       "      <td>C2</td>\n",
       "      <td>W1</td>\n",
       "    </tr>\n",
       "    <tr>\n",
       "      <th>2017-01-01 00:00:00</th>\n",
       "      <td>fid_62402</td>\n",
       "      <td>10833.14</td>\n",
       "      <td>location 7369</td>\n",
       "      <td>ing_w</td>\n",
       "      <td>4</td>\n",
       "      <td>17.80</td>\n",
       "      <td>0.00</td>\n",
       "      <td>C2</td>\n",
       "      <td>W1</td>\n",
       "    </tr>\n",
       "    <tr>\n",
       "      <th>...</th>\n",
       "      <td>...</td>\n",
       "      <td>...</td>\n",
       "      <td>...</td>\n",
       "      <td>...</td>\n",
       "      <td>...</td>\n",
       "      <td>...</td>\n",
       "      <td>...</td>\n",
       "      <td>...</td>\n",
       "      <td>...</td>\n",
       "    </tr>\n",
       "    <tr>\n",
       "      <th>2017-12-31 23:00:00</th>\n",
       "      <td>fid_58769</td>\n",
       "      <td>8659.12</td>\n",
       "      <td>location 868</td>\n",
       "      <td>ing_x</td>\n",
       "      <td>26001715</td>\n",
       "      <td>-21.10</td>\n",
       "      <td>2.00</td>\n",
       "      <td>C1</td>\n",
       "      <td>W1</td>\n",
       "    </tr>\n",
       "    <tr>\n",
       "      <th>2017-12-31 23:00:00</th>\n",
       "      <td>fid_58769</td>\n",
       "      <td>8659.12</td>\n",
       "      <td>location 868</td>\n",
       "      <td>ing_z</td>\n",
       "      <td>26001716</td>\n",
       "      <td>-21.10</td>\n",
       "      <td>2.00</td>\n",
       "      <td>C1</td>\n",
       "      <td>W1</td>\n",
       "    </tr>\n",
       "    <tr>\n",
       "      <th>2017-12-31 23:00:00</th>\n",
       "      <td>fid_117010</td>\n",
       "      <td>11857.40</td>\n",
       "      <td>location 868</td>\n",
       "      <td>ing_w</td>\n",
       "      <td>26001717</td>\n",
       "      <td>-21.10</td>\n",
       "      <td>2.00</td>\n",
       "      <td>C1</td>\n",
       "      <td>W1</td>\n",
       "    </tr>\n",
       "    <tr>\n",
       "      <th>2017-12-31 23:00:00</th>\n",
       "      <td>fid_117010</td>\n",
       "      <td>11857.40</td>\n",
       "      <td>location 868</td>\n",
       "      <td>ing_x</td>\n",
       "      <td>26001718</td>\n",
       "      <td>-21.10</td>\n",
       "      <td>2.00</td>\n",
       "      <td>C1</td>\n",
       "      <td>W1</td>\n",
       "    </tr>\n",
       "    <tr>\n",
       "      <th>2017-12-31 23:00:00</th>\n",
       "      <td>fid_117010</td>\n",
       "      <td>11857.40</td>\n",
       "      <td>location 868</td>\n",
       "      <td>ing_z</td>\n",
       "      <td>26001719</td>\n",
       "      <td>-21.10</td>\n",
       "      <td>2.00</td>\n",
       "      <td>C1</td>\n",
       "      <td>W1</td>\n",
       "    </tr>\n",
       "  </tbody>\n",
       "</table>\n",
       "<p>21154797 rows × 9 columns</p>\n",
       "</div>"
      ],
      "text/plain": [
       "                        farm_id  farm_area  ... cloudiness_cat wind_speed_cat\n",
       "date                                        ...                              \n",
       "2017-01-01 00:00:00  fid_110884     690.46  ...             C2             W1\n",
       "2017-01-01 00:00:00   fid_90053     252.70  ...             C2             W1\n",
       "2017-01-01 00:00:00   fid_17537     499.45  ...             C2             W1\n",
       "2017-01-01 00:00:00  fid_110392    2200.41  ...             C2             W1\n",
       "2017-01-01 00:00:00   fid_62402   10833.14  ...             C2             W1\n",
       "...                         ...        ...  ...            ...            ...\n",
       "2017-12-31 23:00:00   fid_58769    8659.12  ...             C1             W1\n",
       "2017-12-31 23:00:00   fid_58769    8659.12  ...             C1             W1\n",
       "2017-12-31 23:00:00  fid_117010   11857.40  ...             C1             W1\n",
       "2017-12-31 23:00:00  fid_117010   11857.40  ...             C1             W1\n",
       "2017-12-31 23:00:00  fid_117010   11857.40  ...             C1             W1\n",
       "\n",
       "[21154797 rows x 9 columns]"
      ]
     },
     "execution_count": 44,
     "metadata": {
      "tags": []
     },
     "output_type": "execute_result"
    }
   ],
   "source": [
    "test"
   ]
  },
  {
   "cell_type": "code",
   "execution_count": 0,
   "metadata": {
    "colab": {},
    "colab_type": "code",
    "id": "Ii90RHk0cWU5"
   },
   "outputs": [],
   "source": [
    "lg_pred = lg.predict(test)"
   ]
  },
  {
   "cell_type": "code",
   "execution_count": 0,
   "metadata": {
    "colab": {},
    "colab_type": "code",
    "id": "U9pJyJ6EOy7K"
   },
   "outputs": [],
   "source": [
    "lg_pred = pd.DataFrame(lg_pred, columns = ['yield'])"
   ]
  },
  {
   "cell_type": "code",
   "execution_count": 51,
   "metadata": {
    "colab": {
     "base_uri": "https://localhost:8080/",
     "height": 419
    },
    "colab_type": "code",
    "id": "myEOcCDRhl9F",
    "outputId": "452456b7-0f3f-45d6-b111-832f9a5766ed"
   },
   "outputs": [
    {
     "data": {
      "text/html": [
       "<div>\n",
       "<style scoped>\n",
       "    .dataframe tbody tr th:only-of-type {\n",
       "        vertical-align: middle;\n",
       "    }\n",
       "\n",
       "    .dataframe tbody tr th {\n",
       "        vertical-align: top;\n",
       "    }\n",
       "\n",
       "    .dataframe thead th {\n",
       "        text-align: right;\n",
       "    }\n",
       "</style>\n",
       "<table border=\"1\" class=\"dataframe\">\n",
       "  <thead>\n",
       "    <tr style=\"text-align: right;\">\n",
       "      <th></th>\n",
       "      <th>yield</th>\n",
       "    </tr>\n",
       "  </thead>\n",
       "  <tbody>\n",
       "    <tr>\n",
       "      <th>0</th>\n",
       "      <td>176.97</td>\n",
       "    </tr>\n",
       "    <tr>\n",
       "      <th>1</th>\n",
       "      <td>176.97</td>\n",
       "    </tr>\n",
       "    <tr>\n",
       "      <th>2</th>\n",
       "      <td>176.97</td>\n",
       "    </tr>\n",
       "    <tr>\n",
       "      <th>3</th>\n",
       "      <td>176.97</td>\n",
       "    </tr>\n",
       "    <tr>\n",
       "      <th>4</th>\n",
       "      <td>395.33</td>\n",
       "    </tr>\n",
       "    <tr>\n",
       "      <th>...</th>\n",
       "      <td>...</td>\n",
       "    </tr>\n",
       "    <tr>\n",
       "      <th>21154792</th>\n",
       "      <td>266.14</td>\n",
       "    </tr>\n",
       "    <tr>\n",
       "      <th>21154793</th>\n",
       "      <td>228.17</td>\n",
       "    </tr>\n",
       "    <tr>\n",
       "      <th>21154794</th>\n",
       "      <td>116.11</td>\n",
       "    </tr>\n",
       "    <tr>\n",
       "      <th>21154795</th>\n",
       "      <td>266.14</td>\n",
       "    </tr>\n",
       "    <tr>\n",
       "      <th>21154796</th>\n",
       "      <td>228.17</td>\n",
       "    </tr>\n",
       "  </tbody>\n",
       "</table>\n",
       "<p>21154797 rows × 1 columns</p>\n",
       "</div>"
      ],
      "text/plain": [
       "          yield\n",
       "0        176.97\n",
       "1        176.97\n",
       "2        176.97\n",
       "3        176.97\n",
       "4        395.33\n",
       "...         ...\n",
       "21154792 266.14\n",
       "21154793 228.17\n",
       "21154794 116.11\n",
       "21154795 266.14\n",
       "21154796 228.17\n",
       "\n",
       "[21154797 rows x 1 columns]"
      ]
     },
     "execution_count": 51,
     "metadata": {
      "tags": []
     },
     "output_type": "execute_result"
    }
   ],
   "source": [
    "lg_pred"
   ]
  },
  {
   "cell_type": "code",
   "execution_count": 0,
   "metadata": {
    "colab": {},
    "colab_type": "code",
    "id": "1TdO4qn-qP5l"
   },
   "outputs": [],
   "source": [
    "lg_pred.to_csv('/content/drive/My Drive/CSV/finalSUb.csv')"
   ]
  },
  {
   "cell_type": "code",
   "execution_count": 0,
   "metadata": {
    "colab": {},
    "colab_type": "code",
    "id": "zLHzZZ-bhv-p"
   },
   "outputs": [],
   "source": [
    "test =pd.read_csv(\"/content/drive/My Drive/CSV/phd_test (1).csv\")"
   ]
  },
  {
   "cell_type": "code",
   "execution_count": 0,
   "metadata": {
    "colab": {},
    "colab_type": "code",
    "id": "pOhNUnR1jPcS"
   },
   "outputs": [],
   "source": [
    "test = pd.concat([test, lg_pred], axis=1 )"
   ]
  },
  {
   "cell_type": "code",
   "execution_count": 60,
   "metadata": {
    "colab": {
     "base_uri": "https://localhost:8080/",
     "height": 796
    },
    "colab_type": "code",
    "id": "J2l0enxpko5f",
    "outputId": "d3545f2a-8643-4b7f-add3-d6df948b4a00"
   },
   "outputs": [
    {
     "data": {
      "text/html": [
       "<div>\n",
       "<style scoped>\n",
       "    .dataframe tbody tr th:only-of-type {\n",
       "        vertical-align: middle;\n",
       "    }\n",
       "\n",
       "    .dataframe tbody tr th {\n",
       "        vertical-align: top;\n",
       "    }\n",
       "\n",
       "    .dataframe thead th {\n",
       "        text-align: right;\n",
       "    }\n",
       "</style>\n",
       "<table border=\"1\" class=\"dataframe\">\n",
       "  <thead>\n",
       "    <tr style=\"text-align: right;\">\n",
       "      <th></th>\n",
       "      <th>Unnamed: 0</th>\n",
       "      <th>farm_id</th>\n",
       "      <th>farm_area</th>\n",
       "      <th>farming_company</th>\n",
       "      <th>deidentified_location</th>\n",
       "      <th>date</th>\n",
       "      <th>ingredient_type</th>\n",
       "      <th>id</th>\n",
       "      <th>temp_obs</th>\n",
       "      <th>cloudiness</th>\n",
       "      <th>wind_direction</th>\n",
       "      <th>dew_temp</th>\n",
       "      <th>pressure_sea_level</th>\n",
       "      <th>precipitation</th>\n",
       "      <th>wind_speed</th>\n",
       "      <th>yield</th>\n",
       "    </tr>\n",
       "  </thead>\n",
       "  <tbody>\n",
       "    <tr>\n",
       "      <th>0</th>\n",
       "      <td>0</td>\n",
       "      <td>fid_110884</td>\n",
       "      <td>690.46</td>\n",
       "      <td>Obery Farms</td>\n",
       "      <td>location 7369</td>\n",
       "      <td>2017-01-01 00:00:00</td>\n",
       "      <td>ing_w</td>\n",
       "      <td>0</td>\n",
       "      <td>17.80</td>\n",
       "      <td>4.00</td>\n",
       "      <td>100.00</td>\n",
       "      <td>11.70</td>\n",
       "      <td>1021.40</td>\n",
       "      <td>0.00</td>\n",
       "      <td>3.60</td>\n",
       "      <td>176.97</td>\n",
       "    </tr>\n",
       "    <tr>\n",
       "      <th>1</th>\n",
       "      <td>1</td>\n",
       "      <td>fid_90053</td>\n",
       "      <td>252.70</td>\n",
       "      <td>Obery Farms</td>\n",
       "      <td>location 7369</td>\n",
       "      <td>2017-01-01 00:00:00</td>\n",
       "      <td>ing_w</td>\n",
       "      <td>1</td>\n",
       "      <td>17.80</td>\n",
       "      <td>4.00</td>\n",
       "      <td>100.00</td>\n",
       "      <td>11.70</td>\n",
       "      <td>1021.40</td>\n",
       "      <td>0.00</td>\n",
       "      <td>3.60</td>\n",
       "      <td>176.97</td>\n",
       "    </tr>\n",
       "    <tr>\n",
       "      <th>2</th>\n",
       "      <td>2</td>\n",
       "      <td>fid_17537</td>\n",
       "      <td>499.45</td>\n",
       "      <td>Obery Farms</td>\n",
       "      <td>location 7369</td>\n",
       "      <td>2017-01-01 00:00:00</td>\n",
       "      <td>ing_w</td>\n",
       "      <td>2</td>\n",
       "      <td>17.80</td>\n",
       "      <td>4.00</td>\n",
       "      <td>100.00</td>\n",
       "      <td>11.70</td>\n",
       "      <td>1021.40</td>\n",
       "      <td>0.00</td>\n",
       "      <td>3.60</td>\n",
       "      <td>176.97</td>\n",
       "    </tr>\n",
       "    <tr>\n",
       "      <th>3</th>\n",
       "      <td>3</td>\n",
       "      <td>fid_110392</td>\n",
       "      <td>2200.41</td>\n",
       "      <td>Obery Farms</td>\n",
       "      <td>location 7369</td>\n",
       "      <td>2017-01-01 00:00:00</td>\n",
       "      <td>ing_w</td>\n",
       "      <td>3</td>\n",
       "      <td>17.80</td>\n",
       "      <td>4.00</td>\n",
       "      <td>100.00</td>\n",
       "      <td>11.70</td>\n",
       "      <td>1021.40</td>\n",
       "      <td>0.00</td>\n",
       "      <td>3.60</td>\n",
       "      <td>176.97</td>\n",
       "    </tr>\n",
       "    <tr>\n",
       "      <th>4</th>\n",
       "      <td>4</td>\n",
       "      <td>fid_62402</td>\n",
       "      <td>10833.14</td>\n",
       "      <td>Obery Farms</td>\n",
       "      <td>location 7369</td>\n",
       "      <td>2017-01-01 00:00:00</td>\n",
       "      <td>ing_w</td>\n",
       "      <td>4</td>\n",
       "      <td>17.80</td>\n",
       "      <td>4.00</td>\n",
       "      <td>100.00</td>\n",
       "      <td>11.70</td>\n",
       "      <td>1021.40</td>\n",
       "      <td>0.00</td>\n",
       "      <td>3.60</td>\n",
       "      <td>395.33</td>\n",
       "    </tr>\n",
       "    <tr>\n",
       "      <th>...</th>\n",
       "      <td>...</td>\n",
       "      <td>...</td>\n",
       "      <td>...</td>\n",
       "      <td>...</td>\n",
       "      <td>...</td>\n",
       "      <td>...</td>\n",
       "      <td>...</td>\n",
       "      <td>...</td>\n",
       "      <td>...</td>\n",
       "      <td>...</td>\n",
       "      <td>...</td>\n",
       "      <td>...</td>\n",
       "      <td>...</td>\n",
       "      <td>...</td>\n",
       "      <td>...</td>\n",
       "      <td>...</td>\n",
       "    </tr>\n",
       "    <tr>\n",
       "      <th>21154792</th>\n",
       "      <td>21154792</td>\n",
       "      <td>fid_58769</td>\n",
       "      <td>8659.12</td>\n",
       "      <td>Obery Farms</td>\n",
       "      <td>location 868</td>\n",
       "      <td>2017-12-31 23:00:00</td>\n",
       "      <td>ing_x</td>\n",
       "      <td>26001715</td>\n",
       "      <td>-21.10</td>\n",
       "      <td>0.00</td>\n",
       "      <td>270.00</td>\n",
       "      <td>-26.80</td>\n",
       "      <td>1029.80</td>\n",
       "      <td>2.00</td>\n",
       "      <td>4.60</td>\n",
       "      <td>266.14</td>\n",
       "    </tr>\n",
       "    <tr>\n",
       "      <th>21154793</th>\n",
       "      <td>21154793</td>\n",
       "      <td>fid_58769</td>\n",
       "      <td>8659.12</td>\n",
       "      <td>Obery Farms</td>\n",
       "      <td>location 868</td>\n",
       "      <td>2017-12-31 23:00:00</td>\n",
       "      <td>ing_z</td>\n",
       "      <td>26001716</td>\n",
       "      <td>-21.10</td>\n",
       "      <td>0.00</td>\n",
       "      <td>270.00</td>\n",
       "      <td>-26.80</td>\n",
       "      <td>1029.80</td>\n",
       "      <td>2.00</td>\n",
       "      <td>4.60</td>\n",
       "      <td>228.17</td>\n",
       "    </tr>\n",
       "    <tr>\n",
       "      <th>21154794</th>\n",
       "      <td>21154794</td>\n",
       "      <td>fid_117010</td>\n",
       "      <td>11857.40</td>\n",
       "      <td>Obery Farms</td>\n",
       "      <td>location 868</td>\n",
       "      <td>2017-12-31 23:00:00</td>\n",
       "      <td>ing_w</td>\n",
       "      <td>26001717</td>\n",
       "      <td>-21.10</td>\n",
       "      <td>0.00</td>\n",
       "      <td>270.00</td>\n",
       "      <td>-26.80</td>\n",
       "      <td>1029.80</td>\n",
       "      <td>2.00</td>\n",
       "      <td>4.60</td>\n",
       "      <td>116.11</td>\n",
       "    </tr>\n",
       "    <tr>\n",
       "      <th>21154795</th>\n",
       "      <td>21154795</td>\n",
       "      <td>fid_117010</td>\n",
       "      <td>11857.40</td>\n",
       "      <td>Obery Farms</td>\n",
       "      <td>location 868</td>\n",
       "      <td>2017-12-31 23:00:00</td>\n",
       "      <td>ing_x</td>\n",
       "      <td>26001718</td>\n",
       "      <td>-21.10</td>\n",
       "      <td>0.00</td>\n",
       "      <td>270.00</td>\n",
       "      <td>-26.80</td>\n",
       "      <td>1029.80</td>\n",
       "      <td>2.00</td>\n",
       "      <td>4.60</td>\n",
       "      <td>266.14</td>\n",
       "    </tr>\n",
       "    <tr>\n",
       "      <th>21154796</th>\n",
       "      <td>21154796</td>\n",
       "      <td>fid_117010</td>\n",
       "      <td>11857.40</td>\n",
       "      <td>Obery Farms</td>\n",
       "      <td>location 868</td>\n",
       "      <td>2017-12-31 23:00:00</td>\n",
       "      <td>ing_z</td>\n",
       "      <td>26001719</td>\n",
       "      <td>-21.10</td>\n",
       "      <td>0.00</td>\n",
       "      <td>270.00</td>\n",
       "      <td>-26.80</td>\n",
       "      <td>1029.80</td>\n",
       "      <td>2.00</td>\n",
       "      <td>4.60</td>\n",
       "      <td>228.17</td>\n",
       "    </tr>\n",
       "  </tbody>\n",
       "</table>\n",
       "<p>21154797 rows × 16 columns</p>\n",
       "</div>"
      ],
      "text/plain": [
       "          Unnamed: 0     farm_id  farm_area  ... precipitation wind_speed  yield\n",
       "0                  0  fid_110884     690.46  ...          0.00       3.60 176.97\n",
       "1                  1   fid_90053     252.70  ...          0.00       3.60 176.97\n",
       "2                  2   fid_17537     499.45  ...          0.00       3.60 176.97\n",
       "3                  3  fid_110392    2200.41  ...          0.00       3.60 176.97\n",
       "4                  4   fid_62402   10833.14  ...          0.00       3.60 395.33\n",
       "...              ...         ...        ...  ...           ...        ...    ...\n",
       "21154792    21154792   fid_58769    8659.12  ...          2.00       4.60 266.14\n",
       "21154793    21154793   fid_58769    8659.12  ...          2.00       4.60 228.17\n",
       "21154794    21154794  fid_117010   11857.40  ...          2.00       4.60 116.11\n",
       "21154795    21154795  fid_117010   11857.40  ...          2.00       4.60 266.14\n",
       "21154796    21154796  fid_117010   11857.40  ...          2.00       4.60 228.17\n",
       "\n",
       "[21154797 rows x 16 columns]"
      ]
     },
     "execution_count": 60,
     "metadata": {
      "tags": []
     },
     "output_type": "execute_result"
    }
   ],
   "source": [
    "test"
   ]
  },
  {
   "cell_type": "code",
   "execution_count": 0,
   "metadata": {
    "colab": {},
    "colab_type": "code",
    "id": "XxeCZ4fEoyDx"
   },
   "outputs": [],
   "source": [
    "from datetime import datetime"
   ]
  },
  {
   "cell_type": "markdown",
   "metadata": {},
   "source": [
    "# Extracting the month column:"
   ]
  },
  {
   "cell_type": "code",
   "execution_count": 0,
   "metadata": {
    "colab": {},
    "colab_type": "code",
    "id": "55p1uFwOpCwn"
   },
   "outputs": [],
   "source": [
    "test['Month'] = pd.DatetimeIndex(test['date']).month \n"
   ]
  },
  {
   "cell_type": "markdown",
   "metadata": {},
   "source": [
    "# GroupBY:"
   ]
  },
  {
   "cell_type": "code",
   "execution_count": 71,
   "metadata": {
    "colab": {
     "base_uri": "https://localhost:8080/",
     "height": 224
    },
    "colab_type": "code",
    "id": "dCkH9OEloMwu",
    "outputId": "da7b4887-dd24-44eb-984d-b6dcd2f263c7"
   },
   "outputs": [
    {
     "data": {
      "text/html": [
       "<div>\n",
       "<style scoped>\n",
       "    .dataframe tbody tr th:only-of-type {\n",
       "        vertical-align: middle;\n",
       "    }\n",
       "\n",
       "    .dataframe tbody tr th {\n",
       "        vertical-align: top;\n",
       "    }\n",
       "\n",
       "    .dataframe thead th {\n",
       "        text-align: right;\n",
       "    }\n",
       "</style>\n",
       "<table border=\"1\" class=\"dataframe\">\n",
       "  <thead>\n",
       "    <tr style=\"text-align: right;\">\n",
       "      <th></th>\n",
       "      <th>Month</th>\n",
       "      <th>ingredient_type</th>\n",
       "      <th>Unnamed: 0</th>\n",
       "      <th>farm_area</th>\n",
       "      <th>id</th>\n",
       "      <th>temp_obs</th>\n",
       "      <th>cloudiness</th>\n",
       "      <th>wind_direction</th>\n",
       "      <th>dew_temp</th>\n",
       "      <th>pressure_sea_level</th>\n",
       "      <th>precipitation</th>\n",
       "      <th>wind_speed</th>\n",
       "      <th>yield</th>\n",
       "    </tr>\n",
       "  </thead>\n",
       "  <tbody>\n",
       "    <tr>\n",
       "      <th>0</th>\n",
       "      <td>1</td>\n",
       "      <td>ing_w</td>\n",
       "      <td>9232386329383</td>\n",
       "      <td>9131660316.32</td>\n",
       "      <td>17472008355098</td>\n",
       "      <td>6836250.40</td>\n",
       "      <td>4001837.00</td>\n",
       "      <td>194392089.00</td>\n",
       "      <td>1217542.90</td>\n",
       "      <td>1089281375.60</td>\n",
       "      <td>743397.00</td>\n",
       "      <td>3870308.40</td>\n",
       "      <td>177405517.36</td>\n",
       "    </tr>\n",
       "    <tr>\n",
       "      <th>1</th>\n",
       "      <td>1</td>\n",
       "      <td>ing_x</td>\n",
       "      <td>3956366759768</td>\n",
       "      <td>4302923530.78</td>\n",
       "      <td>7900234670791</td>\n",
       "      <td>1964017.90</td>\n",
       "      <td>1120825.00</td>\n",
       "      <td>65815243.00</td>\n",
       "      <td>-300973.30</td>\n",
       "      <td>381615748.10</td>\n",
       "      <td>254707.00</td>\n",
       "      <td>1167926.00</td>\n",
       "      <td>230425461.40</td>\n",
       "    </tr>\n",
       "    <tr>\n",
       "      <th>2</th>\n",
       "      <td>1</td>\n",
       "      <td>ing_y</td>\n",
       "      <td>2940691776459</td>\n",
       "      <td>3109251806.14</td>\n",
       "      <td>6491420252296</td>\n",
       "      <td>558456.20</td>\n",
       "      <td>645897.00</td>\n",
       "      <td>45613614.00</td>\n",
       "      <td>-700872.70</td>\n",
       "      <td>246518474.40</td>\n",
       "      <td>160371.00</td>\n",
       "      <td>809871.00</td>\n",
       "      <td>2539758169.89</td>\n",
       "    </tr>\n",
       "    <tr>\n",
       "      <th>3</th>\n",
       "      <td>1</td>\n",
       "      <td>ing_z</td>\n",
       "      <td>1202005440998</td>\n",
       "      <td>1157377252.68</td>\n",
       "      <td>1943366720957</td>\n",
       "      <td>611994.20</td>\n",
       "      <td>331619.00</td>\n",
       "      <td>18279146.00</td>\n",
       "      <td>-60501.50</td>\n",
       "      <td>111479842.10</td>\n",
       "      <td>82840.00</td>\n",
       "      <td>314683.10</td>\n",
       "      <td>45978976.39</td>\n",
       "    </tr>\n",
       "    <tr>\n",
       "      <th>4</th>\n",
       "      <td>2</td>\n",
       "      <td>ing_w</td>\n",
       "      <td>8499472782851</td>\n",
       "      <td>8267309705.61</td>\n",
       "      <td>15933099306668</td>\n",
       "      <td>9127016.30</td>\n",
       "      <td>2924344.00</td>\n",
       "      <td>180678580.00</td>\n",
       "      <td>2421200.70</td>\n",
       "      <td>982583549.40</td>\n",
       "      <td>437376.00</td>\n",
       "      <td>3817306.90</td>\n",
       "      <td>161520332.79</td>\n",
       "    </tr>\n",
       "  </tbody>\n",
       "</table>\n",
       "</div>"
      ],
      "text/plain": [
       "   Month ingredient_type  ...  wind_speed         yield\n",
       "0      1           ing_w  ...  3870308.40  177405517.36\n",
       "1      1           ing_x  ...  1167926.00  230425461.40\n",
       "2      1           ing_y  ...   809871.00 2539758169.89\n",
       "3      1           ing_z  ...   314683.10   45978976.39\n",
       "4      2           ing_w  ...  3817306.90  161520332.79\n",
       "\n",
       "[5 rows x 13 columns]"
      ]
     },
     "execution_count": 71,
     "metadata": {
      "tags": []
     },
     "output_type": "execute_result"
    }
   ],
   "source": [
    "test_gb= test.groupby(['Month', 'ingredient_type'], as_index=False).sum()\n",
    "test_gb.head()"
   ]
  },
  {
   "cell_type": "markdown",
   "metadata": {},
   "source": [
    "# For Ingredient_type:"
   ]
  },
  {
   "cell_type": "code",
   "execution_count": 72,
   "metadata": {
    "colab": {
     "base_uri": "https://localhost:8080/",
     "height": 441
    },
    "colab_type": "code",
    "id": "SCW2HQ-f5Veh",
    "outputId": "34d12538-f8bc-4e2f-a0da-0834ecaf567b"
   },
   "outputs": [
    {
     "data": {
      "text/html": [
       "<div>\n",
       "<style scoped>\n",
       "    .dataframe tbody tr th:only-of-type {\n",
       "        vertical-align: middle;\n",
       "    }\n",
       "\n",
       "    .dataframe tbody tr th {\n",
       "        vertical-align: top;\n",
       "    }\n",
       "\n",
       "    .dataframe thead th {\n",
       "        text-align: right;\n",
       "    }\n",
       "</style>\n",
       "<table border=\"1\" class=\"dataframe\">\n",
       "  <thead>\n",
       "    <tr style=\"text-align: right;\">\n",
       "      <th></th>\n",
       "      <th>Month</th>\n",
       "      <th>ingredient_type</th>\n",
       "      <th>Unnamed: 0</th>\n",
       "      <th>farm_area</th>\n",
       "      <th>id</th>\n",
       "      <th>temp_obs</th>\n",
       "      <th>cloudiness</th>\n",
       "      <th>wind_direction</th>\n",
       "      <th>dew_temp</th>\n",
       "      <th>pressure_sea_level</th>\n",
       "      <th>precipitation</th>\n",
       "      <th>wind_speed</th>\n",
       "      <th>yield</th>\n",
       "    </tr>\n",
       "  </thead>\n",
       "  <tbody>\n",
       "    <tr>\n",
       "      <th>0</th>\n",
       "      <td>1</td>\n",
       "      <td>ing_w</td>\n",
       "      <td>9232386329383</td>\n",
       "      <td>9131660316.32</td>\n",
       "      <td>17472008355098</td>\n",
       "      <td>6836250.40</td>\n",
       "      <td>4001837.00</td>\n",
       "      <td>194392089.00</td>\n",
       "      <td>1217542.90</td>\n",
       "      <td>1089281375.60</td>\n",
       "      <td>743397.00</td>\n",
       "      <td>3870308.40</td>\n",
       "      <td>177405517.36</td>\n",
       "    </tr>\n",
       "    <tr>\n",
       "      <th>4</th>\n",
       "      <td>2</td>\n",
       "      <td>ing_w</td>\n",
       "      <td>8499472782851</td>\n",
       "      <td>8267309705.61</td>\n",
       "      <td>15933099306668</td>\n",
       "      <td>9127016.30</td>\n",
       "      <td>2924344.00</td>\n",
       "      <td>180678580.00</td>\n",
       "      <td>2421200.70</td>\n",
       "      <td>982583549.40</td>\n",
       "      <td>437376.00</td>\n",
       "      <td>3817306.90</td>\n",
       "      <td>161520332.79</td>\n",
       "    </tr>\n",
       "    <tr>\n",
       "      <th>8</th>\n",
       "      <td>3</td>\n",
       "      <td>ing_w</td>\n",
       "      <td>9558466961811</td>\n",
       "      <td>9118663775.90</td>\n",
       "      <td>17804467123723</td>\n",
       "      <td>11250918.40</td>\n",
       "      <td>3502668.00</td>\n",
       "      <td>193803969.00</td>\n",
       "      <td>2208886.00</td>\n",
       "      <td>1091722774.40</td>\n",
       "      <td>540078.00</td>\n",
       "      <td>4605260.70</td>\n",
       "      <td>180543458.75</td>\n",
       "    </tr>\n",
       "    <tr>\n",
       "      <th>12</th>\n",
       "      <td>4</td>\n",
       "      <td>ing_w</td>\n",
       "      <td>9426225564501</td>\n",
       "      <td>8851102342.51</td>\n",
       "      <td>17396456865815</td>\n",
       "      <td>16823386.70</td>\n",
       "      <td>3232160.00</td>\n",
       "      <td>186930416.00</td>\n",
       "      <td>7396117.10</td>\n",
       "      <td>1053328794.50</td>\n",
       "      <td>712719.00</td>\n",
       "      <td>4032598.60</td>\n",
       "      <td>177376425.90</td>\n",
       "    </tr>\n",
       "    <tr>\n",
       "      <th>16</th>\n",
       "      <td>5</td>\n",
       "      <td>ing_w</td>\n",
       "      <td>9918324302906</td>\n",
       "      <td>9159579185.48</td>\n",
       "      <td>18153743345548</td>\n",
       "      <td>20040227.80</td>\n",
       "      <td>3348302.00</td>\n",
       "      <td>185186763.00</td>\n",
       "      <td>10792895.60</td>\n",
       "      <td>1085854289.70</td>\n",
       "      <td>1131901.00</td>\n",
       "      <td>4154843.90</td>\n",
       "      <td>181740987.31</td>\n",
       "    </tr>\n",
       "    <tr>\n",
       "      <th>20</th>\n",
       "      <td>6</td>\n",
       "      <td>ing_w</td>\n",
       "      <td>9663204982459</td>\n",
       "      <td>8801972220.20</td>\n",
       "      <td>17441847535267</td>\n",
       "      <td>24281652.10</td>\n",
       "      <td>3022789.00</td>\n",
       "      <td>193478600.00</td>\n",
       "      <td>14700208.70</td>\n",
       "      <td>1042931351.10</td>\n",
       "      <td>885309.00</td>\n",
       "      <td>3781420.10</td>\n",
       "      <td>168532241.13</td>\n",
       "    </tr>\n",
       "    <tr>\n",
       "      <th>24</th>\n",
       "      <td>7</td>\n",
       "      <td>ing_w</td>\n",
       "      <td>10262801027946</td>\n",
       "      <td>9166550505.55</td>\n",
       "      <td>18507865060498</td>\n",
       "      <td>27002508.80</td>\n",
       "      <td>3354105.00</td>\n",
       "      <td>185767810.00</td>\n",
       "      <td>18909419.80</td>\n",
       "      <td>1088688294.20</td>\n",
       "      <td>2187112.00</td>\n",
       "      <td>3441277.40</td>\n",
       "      <td>174866105.03</td>\n",
       "    </tr>\n",
       "    <tr>\n",
       "      <th>28</th>\n",
       "      <td>8</td>\n",
       "      <td>ing_w</td>\n",
       "      <td>10423520454750</td>\n",
       "      <td>9152557734.86</td>\n",
       "      <td>18660563815504</td>\n",
       "      <td>25376280.20</td>\n",
       "      <td>3330629.00</td>\n",
       "      <td>185188530.00</td>\n",
       "      <td>17881304.80</td>\n",
       "      <td>1087896816.50</td>\n",
       "      <td>1483347.00</td>\n",
       "      <td>3389793.80</td>\n",
       "      <td>178155315.61</td>\n",
       "    </tr>\n",
       "    <tr>\n",
       "      <th>32</th>\n",
       "      <td>9</td>\n",
       "      <td>ing_w</td>\n",
       "      <td>10250050937523</td>\n",
       "      <td>8860375124.44</td>\n",
       "      <td>18215525150607</td>\n",
       "      <td>22491582.10</td>\n",
       "      <td>2908405.00</td>\n",
       "      <td>178567800.00</td>\n",
       "      <td>15305003.80</td>\n",
       "      <td>1052848403.60</td>\n",
       "      <td>1136019.00</td>\n",
       "      <td>3416511.80</td>\n",
       "      <td>169076361.38</td>\n",
       "    </tr>\n",
       "    <tr>\n",
       "      <th>36</th>\n",
       "      <td>10</td>\n",
       "      <td>ing_w</td>\n",
       "      <td>10771881686489</td>\n",
       "      <td>9166118729.20</td>\n",
       "      <td>19005730429171</td>\n",
       "      <td>18888933.90</td>\n",
       "      <td>2833998.00</td>\n",
       "      <td>180321540.00</td>\n",
       "      <td>10954852.20</td>\n",
       "      <td>1090895219.50</td>\n",
       "      <td>1167455.00</td>\n",
       "      <td>3821562.10</td>\n",
       "      <td>179793837.88</td>\n",
       "    </tr>\n",
       "    <tr>\n",
       "      <th>40</th>\n",
       "      <td>11</td>\n",
       "      <td>ing_w</td>\n",
       "      <td>10593768182699</td>\n",
       "      <td>8872331663.80</td>\n",
       "      <td>18571302996873</td>\n",
       "      <td>11572307.90</td>\n",
       "      <td>2941365.00</td>\n",
       "      <td>187360190.00</td>\n",
       "      <td>5093137.20</td>\n",
       "      <td>1057793334.70</td>\n",
       "      <td>396181.00</td>\n",
       "      <td>3527615.90</td>\n",
       "      <td>174365939.51</td>\n",
       "    </tr>\n",
       "    <tr>\n",
       "      <th>44</th>\n",
       "      <td>12</td>\n",
       "      <td>ing_w</td>\n",
       "      <td>10885209232756</td>\n",
       "      <td>8968210792.73</td>\n",
       "      <td>18841933862075</td>\n",
       "      <td>6288558.90</td>\n",
       "      <td>3402243.00</td>\n",
       "      <td>197099110.00</td>\n",
       "      <td>-630308.40</td>\n",
       "      <td>1078660758.80</td>\n",
       "      <td>171814.00</td>\n",
       "      <td>3533142.20</td>\n",
       "      <td>170871377.44</td>\n",
       "    </tr>\n",
       "  </tbody>\n",
       "</table>\n",
       "</div>"
      ],
      "text/plain": [
       "    Month ingredient_type  ...  wind_speed        yield\n",
       "0       1           ing_w  ...  3870308.40 177405517.36\n",
       "4       2           ing_w  ...  3817306.90 161520332.79\n",
       "8       3           ing_w  ...  4605260.70 180543458.75\n",
       "12      4           ing_w  ...  4032598.60 177376425.90\n",
       "16      5           ing_w  ...  4154843.90 181740987.31\n",
       "20      6           ing_w  ...  3781420.10 168532241.13\n",
       "24      7           ing_w  ...  3441277.40 174866105.03\n",
       "28      8           ing_w  ...  3389793.80 178155315.61\n",
       "32      9           ing_w  ...  3416511.80 169076361.38\n",
       "36     10           ing_w  ...  3821562.10 179793837.88\n",
       "40     11           ing_w  ...  3527615.90 174365939.51\n",
       "44     12           ing_w  ...  3533142.20 170871377.44\n",
       "\n",
       "[12 rows x 13 columns]"
      ]
     },
     "execution_count": 72,
     "metadata": {
      "tags": []
     },
     "output_type": "execute_result"
    }
   ],
   "source": [
    "test_gb[test_gb['ingredient_type']== 'ing_w']"
   ]
  },
  {
   "cell_type": "code",
   "execution_count": 0,
   "metadata": {
    "colab": {},
    "colab_type": "code",
    "id": "qeZxIl8A7Usy"
   },
   "outputs": [],
   "source": [
    "test_gb.drop(['Unnamed: 0','farm_area','id','temp_obs','cloudiness','wind_direction','dew_temp','pressure_sea_level','precipitation', 'wind_speed'], axis=1, inplace=True)"
   ]
  },
  {
   "cell_type": "code",
   "execution_count": 0,
   "metadata": {
    "colab": {},
    "colab_type": "code",
    "id": "wj3_V7NE7Up6"
   },
   "outputs": [],
   "source": [
    "strategy = test_gb[test_gb['ingredient_type']== 'ing_w' ]"
   ]
  },
  {
   "cell_type": "code",
   "execution_count": 0,
   "metadata": {
    "colab": {},
    "colab_type": "code",
    "id": "bqJrbE0mTk53"
   },
   "outputs": [],
   "source": [
    "demand = [90430481, 75344853, 91917783, 82591524, 87419669, 297500000, 198900000, 97367031, 91049286, 91755300, 86533266, 88514610]"
   ]
  },
  {
   "cell_type": "code",
   "execution_count": 87,
   "metadata": {
    "colab": {
     "base_uri": "https://localhost:8080/",
     "height": 421
    },
    "colab_type": "code",
    "id": "VUAkxWSbUT-L",
    "outputId": "c1273d59-6095-4b38-cb15-a1aec9e5ba1d"
   },
   "outputs": [
    {
     "data": {
      "text/html": [
       "<div>\n",
       "<style scoped>\n",
       "    .dataframe tbody tr th:only-of-type {\n",
       "        vertical-align: middle;\n",
       "    }\n",
       "\n",
       "    .dataframe tbody tr th {\n",
       "        vertical-align: top;\n",
       "    }\n",
       "\n",
       "    .dataframe thead th {\n",
       "        text-align: right;\n",
       "    }\n",
       "</style>\n",
       "<table border=\"1\" class=\"dataframe\">\n",
       "  <thead>\n",
       "    <tr style=\"text-align: right;\">\n",
       "      <th></th>\n",
       "      <th>Month</th>\n",
       "      <th>ingredient_type</th>\n",
       "      <th>yield</th>\n",
       "    </tr>\n",
       "  </thead>\n",
       "  <tbody>\n",
       "    <tr>\n",
       "      <th>0</th>\n",
       "      <td>1</td>\n",
       "      <td>ing_w</td>\n",
       "      <td>177405517.36</td>\n",
       "    </tr>\n",
       "    <tr>\n",
       "      <th>4</th>\n",
       "      <td>2</td>\n",
       "      <td>ing_w</td>\n",
       "      <td>161520332.79</td>\n",
       "    </tr>\n",
       "    <tr>\n",
       "      <th>8</th>\n",
       "      <td>3</td>\n",
       "      <td>ing_w</td>\n",
       "      <td>180543458.75</td>\n",
       "    </tr>\n",
       "    <tr>\n",
       "      <th>12</th>\n",
       "      <td>4</td>\n",
       "      <td>ing_w</td>\n",
       "      <td>177376425.90</td>\n",
       "    </tr>\n",
       "    <tr>\n",
       "      <th>16</th>\n",
       "      <td>5</td>\n",
       "      <td>ing_w</td>\n",
       "      <td>181740987.31</td>\n",
       "    </tr>\n",
       "    <tr>\n",
       "      <th>20</th>\n",
       "      <td>6</td>\n",
       "      <td>ing_w</td>\n",
       "      <td>168532241.13</td>\n",
       "    </tr>\n",
       "    <tr>\n",
       "      <th>24</th>\n",
       "      <td>7</td>\n",
       "      <td>ing_w</td>\n",
       "      <td>174866105.03</td>\n",
       "    </tr>\n",
       "    <tr>\n",
       "      <th>28</th>\n",
       "      <td>8</td>\n",
       "      <td>ing_w</td>\n",
       "      <td>178155315.61</td>\n",
       "    </tr>\n",
       "    <tr>\n",
       "      <th>32</th>\n",
       "      <td>9</td>\n",
       "      <td>ing_w</td>\n",
       "      <td>169076361.38</td>\n",
       "    </tr>\n",
       "    <tr>\n",
       "      <th>36</th>\n",
       "      <td>10</td>\n",
       "      <td>ing_w</td>\n",
       "      <td>179793837.88</td>\n",
       "    </tr>\n",
       "    <tr>\n",
       "      <th>40</th>\n",
       "      <td>11</td>\n",
       "      <td>ing_w</td>\n",
       "      <td>174365939.51</td>\n",
       "    </tr>\n",
       "    <tr>\n",
       "      <th>44</th>\n",
       "      <td>12</td>\n",
       "      <td>ing_w</td>\n",
       "      <td>170871377.44</td>\n",
       "    </tr>\n",
       "  </tbody>\n",
       "</table>\n",
       "</div>"
      ],
      "text/plain": [
       "    Month ingredient_type        yield\n",
       "0       1           ing_w 177405517.36\n",
       "4       2           ing_w 161520332.79\n",
       "8       3           ing_w 180543458.75\n",
       "12      4           ing_w 177376425.90\n",
       "16      5           ing_w 181740987.31\n",
       "20      6           ing_w 168532241.13\n",
       "24      7           ing_w 174866105.03\n",
       "28      8           ing_w 178155315.61\n",
       "32      9           ing_w 169076361.38\n",
       "36     10           ing_w 179793837.88\n",
       "40     11           ing_w 174365939.51\n",
       "44     12           ing_w 170871377.44"
      ]
     },
     "execution_count": 87,
     "metadata": {
      "tags": []
     },
     "output_type": "execute_result"
    }
   ],
   "source": [
    "strategy"
   ]
  },
  {
   "cell_type": "code",
   "execution_count": 89,
   "metadata": {
    "colab": {
     "base_uri": "https://localhost:8080/",
     "height": 119
    },
    "colab_type": "code",
    "id": "euV0HGy1VP0r",
    "outputId": "36ba46e2-b382-4120-89f6-c992e57f6548"
   },
   "outputs": [
    {
     "name": "stderr",
     "output_type": "stream",
     "text": [
      "/usr/local/lib/python3.6/dist-packages/ipykernel_launcher.py:1: SettingWithCopyWarning: \n",
      "A value is trying to be set on a copy of a slice from a DataFrame.\n",
      "Try using .loc[row_indexer,col_indexer] = value instead\n",
      "\n",
      "See the caveats in the documentation: http://pandas.pydata.org/pandas-docs/stable/user_guide/indexing.html#returning-a-view-versus-a-copy\n",
      "  \"\"\"Entry point for launching an IPython kernel.\n"
     ]
    }
   ],
   "source": [
    "strategy['demand']= demand"
   ]
  },
  {
   "cell_type": "code",
   "execution_count": 0,
   "metadata": {
    "colab": {},
    "colab_type": "code",
    "id": "EfHieVBGVbZ3"
   },
   "outputs": [],
   "source": [
    "strategy = strategy.assign(demand = [90430481, 75344853, 91917783, 82591524, 87419669, 297500000, 198900000, 97367031, 91049286, 91755300, 86533266, 88514610])\n"
   ]
  },
  {
   "cell_type": "code",
   "execution_count": 92,
   "metadata": {
    "colab": {
     "base_uri": "https://localhost:8080/",
     "height": 421
    },
    "colab_type": "code",
    "id": "_5F4ghAzV_8e",
    "outputId": "62c6431c-2066-4877-d83c-77238c10c62e"
   },
   "outputs": [
    {
     "data": {
      "text/html": [
       "<div>\n",
       "<style scoped>\n",
       "    .dataframe tbody tr th:only-of-type {\n",
       "        vertical-align: middle;\n",
       "    }\n",
       "\n",
       "    .dataframe tbody tr th {\n",
       "        vertical-align: top;\n",
       "    }\n",
       "\n",
       "    .dataframe thead th {\n",
       "        text-align: right;\n",
       "    }\n",
       "</style>\n",
       "<table border=\"1\" class=\"dataframe\">\n",
       "  <thead>\n",
       "    <tr style=\"text-align: right;\">\n",
       "      <th></th>\n",
       "      <th>Month</th>\n",
       "      <th>ingredient_type</th>\n",
       "      <th>yield</th>\n",
       "      <th>demand</th>\n",
       "    </tr>\n",
       "  </thead>\n",
       "  <tbody>\n",
       "    <tr>\n",
       "      <th>0</th>\n",
       "      <td>1</td>\n",
       "      <td>ing_w</td>\n",
       "      <td>177405517.36</td>\n",
       "      <td>90430481</td>\n",
       "    </tr>\n",
       "    <tr>\n",
       "      <th>4</th>\n",
       "      <td>2</td>\n",
       "      <td>ing_w</td>\n",
       "      <td>161520332.79</td>\n",
       "      <td>75344853</td>\n",
       "    </tr>\n",
       "    <tr>\n",
       "      <th>8</th>\n",
       "      <td>3</td>\n",
       "      <td>ing_w</td>\n",
       "      <td>180543458.75</td>\n",
       "      <td>91917783</td>\n",
       "    </tr>\n",
       "    <tr>\n",
       "      <th>12</th>\n",
       "      <td>4</td>\n",
       "      <td>ing_w</td>\n",
       "      <td>177376425.90</td>\n",
       "      <td>82591524</td>\n",
       "    </tr>\n",
       "    <tr>\n",
       "      <th>16</th>\n",
       "      <td>5</td>\n",
       "      <td>ing_w</td>\n",
       "      <td>181740987.31</td>\n",
       "      <td>87419669</td>\n",
       "    </tr>\n",
       "    <tr>\n",
       "      <th>20</th>\n",
       "      <td>6</td>\n",
       "      <td>ing_w</td>\n",
       "      <td>168532241.13</td>\n",
       "      <td>297500000</td>\n",
       "    </tr>\n",
       "    <tr>\n",
       "      <th>24</th>\n",
       "      <td>7</td>\n",
       "      <td>ing_w</td>\n",
       "      <td>174866105.03</td>\n",
       "      <td>198900000</td>\n",
       "    </tr>\n",
       "    <tr>\n",
       "      <th>28</th>\n",
       "      <td>8</td>\n",
       "      <td>ing_w</td>\n",
       "      <td>178155315.61</td>\n",
       "      <td>97367031</td>\n",
       "    </tr>\n",
       "    <tr>\n",
       "      <th>32</th>\n",
       "      <td>9</td>\n",
       "      <td>ing_w</td>\n",
       "      <td>169076361.38</td>\n",
       "      <td>91049286</td>\n",
       "    </tr>\n",
       "    <tr>\n",
       "      <th>36</th>\n",
       "      <td>10</td>\n",
       "      <td>ing_w</td>\n",
       "      <td>179793837.88</td>\n",
       "      <td>91755300</td>\n",
       "    </tr>\n",
       "    <tr>\n",
       "      <th>40</th>\n",
       "      <td>11</td>\n",
       "      <td>ing_w</td>\n",
       "      <td>174365939.51</td>\n",
       "      <td>86533266</td>\n",
       "    </tr>\n",
       "    <tr>\n",
       "      <th>44</th>\n",
       "      <td>12</td>\n",
       "      <td>ing_w</td>\n",
       "      <td>170871377.44</td>\n",
       "      <td>88514610</td>\n",
       "    </tr>\n",
       "  </tbody>\n",
       "</table>\n",
       "</div>"
      ],
      "text/plain": [
       "    Month ingredient_type        yield     demand\n",
       "0       1           ing_w 177405517.36   90430481\n",
       "4       2           ing_w 161520332.79   75344853\n",
       "8       3           ing_w 180543458.75   91917783\n",
       "12      4           ing_w 177376425.90   82591524\n",
       "16      5           ing_w 181740987.31   87419669\n",
       "20      6           ing_w 168532241.13  297500000\n",
       "24      7           ing_w 174866105.03  198900000\n",
       "28      8           ing_w 178155315.61   97367031\n",
       "32      9           ing_w 169076361.38   91049286\n",
       "36     10           ing_w 179793837.88   91755300\n",
       "40     11           ing_w 174365939.51   86533266\n",
       "44     12           ing_w 170871377.44   88514610"
      ]
     },
     "execution_count": 92,
     "metadata": {
      "tags": []
     },
     "output_type": "execute_result"
    }
   ],
   "source": [
    "strategy"
   ]
  },
  {
   "cell_type": "code",
   "execution_count": 0,
   "metadata": {
    "colab": {},
    "colab_type": "code",
    "id": "wI4KtkquWhol"
   },
   "outputs": [],
   "source": [
    "strategy['Excess'] = strategy.apply(lambda x: x['yield'] - x['demand'], axis=1)"
   ]
  },
  {
   "cell_type": "code",
   "execution_count": 98,
   "metadata": {
    "colab": {
     "base_uri": "https://localhost:8080/",
     "height": 421
    },
    "colab_type": "code",
    "id": "jxqD9VXOW1PE",
    "outputId": "9c268ded-2a62-4b6f-ff61-2b7d93c8d2ba",
    "scrolled": true
   },
   "outputs": [
    {
     "data": {
      "text/html": [
       "<div>\n",
       "<style scoped>\n",
       "    .dataframe tbody tr th:only-of-type {\n",
       "        vertical-align: middle;\n",
       "    }\n",
       "\n",
       "    .dataframe tbody tr th {\n",
       "        vertical-align: top;\n",
       "    }\n",
       "\n",
       "    .dataframe thead th {\n",
       "        text-align: right;\n",
       "    }\n",
       "</style>\n",
       "<table border=\"1\" class=\"dataframe\">\n",
       "  <thead>\n",
       "    <tr style=\"text-align: right;\">\n",
       "      <th></th>\n",
       "      <th>Month</th>\n",
       "      <th>ingredient_type</th>\n",
       "      <th>yield</th>\n",
       "      <th>demand</th>\n",
       "      <th>Shortage</th>\n",
       "      <th>Excess</th>\n",
       "    </tr>\n",
       "  </thead>\n",
       "  <tbody>\n",
       "    <tr>\n",
       "      <th>0</th>\n",
       "      <td>1</td>\n",
       "      <td>ing_w</td>\n",
       "      <td>177405517.36</td>\n",
       "      <td>90430481</td>\n",
       "      <td>86975036.36</td>\n",
       "      <td>86975036.36</td>\n",
       "    </tr>\n",
       "    <tr>\n",
       "      <th>4</th>\n",
       "      <td>2</td>\n",
       "      <td>ing_w</td>\n",
       "      <td>161520332.79</td>\n",
       "      <td>75344853</td>\n",
       "      <td>86175479.79</td>\n",
       "      <td>86175479.79</td>\n",
       "    </tr>\n",
       "    <tr>\n",
       "      <th>8</th>\n",
       "      <td>3</td>\n",
       "      <td>ing_w</td>\n",
       "      <td>180543458.75</td>\n",
       "      <td>91917783</td>\n",
       "      <td>88625675.75</td>\n",
       "      <td>88625675.75</td>\n",
       "    </tr>\n",
       "    <tr>\n",
       "      <th>12</th>\n",
       "      <td>4</td>\n",
       "      <td>ing_w</td>\n",
       "      <td>177376425.90</td>\n",
       "      <td>82591524</td>\n",
       "      <td>94784901.90</td>\n",
       "      <td>94784901.90</td>\n",
       "    </tr>\n",
       "    <tr>\n",
       "      <th>16</th>\n",
       "      <td>5</td>\n",
       "      <td>ing_w</td>\n",
       "      <td>181740987.31</td>\n",
       "      <td>87419669</td>\n",
       "      <td>94321318.31</td>\n",
       "      <td>94321318.31</td>\n",
       "    </tr>\n",
       "    <tr>\n",
       "      <th>20</th>\n",
       "      <td>6</td>\n",
       "      <td>ing_w</td>\n",
       "      <td>168532241.13</td>\n",
       "      <td>297500000</td>\n",
       "      <td>-128967758.87</td>\n",
       "      <td>-128967758.87</td>\n",
       "    </tr>\n",
       "    <tr>\n",
       "      <th>24</th>\n",
       "      <td>7</td>\n",
       "      <td>ing_w</td>\n",
       "      <td>174866105.03</td>\n",
       "      <td>198900000</td>\n",
       "      <td>-24033894.97</td>\n",
       "      <td>-24033894.97</td>\n",
       "    </tr>\n",
       "    <tr>\n",
       "      <th>28</th>\n",
       "      <td>8</td>\n",
       "      <td>ing_w</td>\n",
       "      <td>178155315.61</td>\n",
       "      <td>97367031</td>\n",
       "      <td>80788284.61</td>\n",
       "      <td>80788284.61</td>\n",
       "    </tr>\n",
       "    <tr>\n",
       "      <th>32</th>\n",
       "      <td>9</td>\n",
       "      <td>ing_w</td>\n",
       "      <td>169076361.38</td>\n",
       "      <td>91049286</td>\n",
       "      <td>78027075.38</td>\n",
       "      <td>78027075.38</td>\n",
       "    </tr>\n",
       "    <tr>\n",
       "      <th>36</th>\n",
       "      <td>10</td>\n",
       "      <td>ing_w</td>\n",
       "      <td>179793837.88</td>\n",
       "      <td>91755300</td>\n",
       "      <td>88038537.88</td>\n",
       "      <td>88038537.88</td>\n",
       "    </tr>\n",
       "    <tr>\n",
       "      <th>40</th>\n",
       "      <td>11</td>\n",
       "      <td>ing_w</td>\n",
       "      <td>174365939.51</td>\n",
       "      <td>86533266</td>\n",
       "      <td>87832673.51</td>\n",
       "      <td>87832673.51</td>\n",
       "    </tr>\n",
       "    <tr>\n",
       "      <th>44</th>\n",
       "      <td>12</td>\n",
       "      <td>ing_w</td>\n",
       "      <td>170871377.44</td>\n",
       "      <td>88514610</td>\n",
       "      <td>82356767.44</td>\n",
       "      <td>82356767.44</td>\n",
       "    </tr>\n",
       "  </tbody>\n",
       "</table>\n",
       "</div>"
      ],
      "text/plain": [
       "    Month ingredient_type        yield     demand      Shortage        Excess\n",
       "0       1           ing_w 177405517.36   90430481   86975036.36   86975036.36\n",
       "4       2           ing_w 161520332.79   75344853   86175479.79   86175479.79\n",
       "8       3           ing_w 180543458.75   91917783   88625675.75   88625675.75\n",
       "12      4           ing_w 177376425.90   82591524   94784901.90   94784901.90\n",
       "16      5           ing_w 181740987.31   87419669   94321318.31   94321318.31\n",
       "20      6           ing_w 168532241.13  297500000 -128967758.87 -128967758.87\n",
       "24      7           ing_w 174866105.03  198900000  -24033894.97  -24033894.97\n",
       "28      8           ing_w 178155315.61   97367031   80788284.61   80788284.61\n",
       "32      9           ing_w 169076361.38   91049286   78027075.38   78027075.38\n",
       "36     10           ing_w 179793837.88   91755300   88038537.88   88038537.88\n",
       "40     11           ing_w 174365939.51   86533266   87832673.51   87832673.51\n",
       "44     12           ing_w 170871377.44   88514610   82356767.44   82356767.44"
      ]
     },
     "execution_count": 98,
     "metadata": {
      "tags": []
     },
     "output_type": "execute_result"
    }
   ],
   "source": [
    "strategy"
   ]
  },
  {
   "cell_type": "markdown",
   "metadata": {
    "colab_type": "text",
    "id": "wbN2KZE4a-ja"
   },
   "source": [
    "\n",
    "\n",
    "> The major observation i am getting with this model is June & july will fail to match the demand as per our predicted yield.\n",
    "\n",
    "> Rest of the month we have excess of supply.\n",
    "\n",
    "> So we can lower down the production depending upon the excess we are getting for rest of the months.\n",
    "\n",
    "> And increase the yield in June & July.\n",
    "\n"
   ]
  },
  {
   "cell_type": "code",
   "execution_count": 0,
   "metadata": {
    "colab": {},
    "colab_type": "code",
    "id": "2i8XuNzcN5JL"
   },
   "outputs": [],
   "source": [
    "sub = xg_pred.head(999999)"
   ]
  },
  {
   "cell_type": "code",
   "execution_count": 0,
   "metadata": {
    "colab": {},
    "colab_type": "code",
    "id": "vyaA2WwvPGeP"
   },
   "outputs": [],
   "source": [
    "sub.to_csv('/content/drive/My Drive/CSV/5thSubmission(LGB).csv')"
   ]
  },
  {
   "cell_type": "markdown",
   "metadata": {},
   "source": [
    "# ANN Model:"
   ]
  },
  {
   "cell_type": "code",
   "execution_count": 0,
   "metadata": {
    "colab": {
     "base_uri": "https://localhost:8080/",
     "height": 97
    },
    "colab_type": "code",
    "id": "d_QxqDAZPeco",
    "outputId": "4e75bb87-0fc0-4762-9a59-c83959e2ecbe"
   },
   "outputs": [
    {
     "name": "stderr",
     "output_type": "stream",
     "text": [
      "Using TensorFlow backend.\n"
     ]
    },
    {
     "data": {
      "text/html": [
       "<p style=\"color: red;\">\n",
       "The default version of TensorFlow in Colab will soon switch to TensorFlow 2.x.<br>\n",
       "We recommend you <a href=\"https://www.tensorflow.org/guide/migrate\" target=\"_blank\">upgrade</a> now \n",
       "or ensure your notebook will continue to use TensorFlow 1.x via the <code>%tensorflow_version 1.x</code> magic:\n",
       "<a href=\"https://colab.research.google.com/notebooks/tensorflow_version.ipynb\" target=\"_blank\">more info</a>.</p>\n"
      ],
      "text/plain": [
       "<IPython.core.display.HTML object>"
      ]
     },
     "metadata": {
      "tags": []
     },
     "output_type": "display_data"
    }
   ],
   "source": [
    "from keras.models import Sequential\n",
    "from keras.layers import Dense, Activation, Flatten"
   ]
  },
  {
   "cell_type": "code",
   "execution_count": 0,
   "metadata": {
    "colab": {
     "base_uri": "https://localhost:8080/",
     "height": 598
    },
    "colab_type": "code",
    "id": "rRir5-YDPhmi",
    "outputId": "b003567d-a35f-4441-a8fc-da5aa2c55308"
   },
   "outputs": [
    {
     "name": "stdout",
     "output_type": "stream",
     "text": [
      "WARNING:tensorflow:From /usr/local/lib/python3.6/dist-packages/keras/backend/tensorflow_backend.py:66: The name tf.get_default_graph is deprecated. Please use tf.compat.v1.get_default_graph instead.\n",
      "\n",
      "WARNING:tensorflow:From /usr/local/lib/python3.6/dist-packages/keras/backend/tensorflow_backend.py:541: The name tf.placeholder is deprecated. Please use tf.compat.v1.placeholder instead.\n",
      "\n",
      "WARNING:tensorflow:From /usr/local/lib/python3.6/dist-packages/keras/backend/tensorflow_backend.py:4409: The name tf.random_normal is deprecated. Please use tf.random.normal instead.\n",
      "\n",
      "WARNING:tensorflow:From /usr/local/lib/python3.6/dist-packages/keras/backend/tensorflow_backend.py:148: The name tf.placeholder_with_default is deprecated. Please use tf.compat.v1.placeholder_with_default instead.\n",
      "\n",
      "WARNING:tensorflow:From /usr/local/lib/python3.6/dist-packages/keras/backend/tensorflow_backend.py:3733: calling dropout (from tensorflow.python.ops.nn_ops) with keep_prob is deprecated and will be removed in a future version.\n",
      "Instructions for updating:\n",
      "Please use `rate` instead of `keep_prob`. Rate should be set to `rate = 1 - keep_prob`.\n",
      "WARNING:tensorflow:From /usr/local/lib/python3.6/dist-packages/keras/optimizers.py:793: The name tf.train.Optimizer is deprecated. Please use tf.compat.v1.train.Optimizer instead.\n",
      "\n",
      "Model: \"sequential_1\"\n",
      "_________________________________________________________________\n",
      "Layer (type)                 Output Shape              Param #   \n",
      "=================================================================\n",
      "dense_1 (Dense)              (None, 128)               187392    \n",
      "_________________________________________________________________\n",
      "dropout_1 (Dropout)          (None, 128)               0         \n",
      "_________________________________________________________________\n",
      "dense_2 (Dense)              (None, 64)                8256      \n",
      "_________________________________________________________________\n",
      "dropout_2 (Dropout)          (None, 64)                0         \n",
      "_________________________________________________________________\n",
      "dense_3 (Dense)              (None, 32)                2080      \n",
      "_________________________________________________________________\n",
      "dense_4 (Dense)              (None, 1)                 33        \n",
      "=================================================================\n",
      "Total params: 197,761\n",
      "Trainable params: 197,761\n",
      "Non-trainable params: 0\n",
      "_________________________________________________________________\n"
     ]
    }
   ],
   "source": [
    "NN_model = Sequential()\n",
    "\n",
    "# The Input Layer :\n",
    "NN_model.add(Dense(128, kernel_initializer='normal',input_dim = X_train.shape[1], activation='relu'))\n",
    "NN_model.add(Dropout(0.5))\n",
    "# The Hidden Layers :\n",
    "NN_model.add(Dense(64, kernel_initializer='normal',activation='relu'))\n",
    "NN_model.add(Dropout(0.3))\n",
    "\n",
    "NN_model.add(Dense(32, kernel_initializer='normal',activation='relu'))\n",
    "\n",
    "# The Output Layer :\n",
    "NN_model.add(Dense(1, kernel_initializer='normal',activation='linear'))\n",
    "\n",
    "# Compile the network :\n",
    "NN_model.compile(loss='mean_squared_error', optimizer='adam', metrics=['mse'])\n",
    "NN_model.summary()"
   ]
  },
  {
   "cell_type": "code",
   "execution_count": 0,
   "metadata": {
    "colab": {
     "base_uri": "https://localhost:8080/",
     "height": 683
    },
    "colab_type": "code",
    "id": "bh9funLWP635",
    "outputId": "775158ed-f4ad-4545-db37-469aa7d3e021"
   },
   "outputs": [
    {
     "name": "stdout",
     "output_type": "stream",
     "text": [
      "WARNING:tensorflow:From /usr/local/lib/python3.6/dist-packages/keras/backend/tensorflow_backend.py:1033: The name tf.assign_add is deprecated. Please use tf.compat.v1.assign_add instead.\n",
      "\n",
      "WARNING:tensorflow:From /usr/local/lib/python3.6/dist-packages/keras/backend/tensorflow_backend.py:1020: The name tf.assign is deprecated. Please use tf.compat.v1.assign instead.\n",
      "\n",
      "WARNING:tensorflow:From /usr/local/lib/python3.6/dist-packages/keras/backend/tensorflow_backend.py:3005: The name tf.Session is deprecated. Please use tf.compat.v1.Session instead.\n",
      "\n",
      "Train on 11486457 samples, validate on 2871615 samples\n",
      "Epoch 1/10\n",
      "WARNING:tensorflow:From /usr/local/lib/python3.6/dist-packages/keras/backend/tensorflow_backend.py:190: The name tf.get_default_session is deprecated. Please use tf.compat.v1.get_default_session instead.\n",
      "\n",
      "WARNING:tensorflow:From /usr/local/lib/python3.6/dist-packages/keras/backend/tensorflow_backend.py:197: The name tf.ConfigProto is deprecated. Please use tf.compat.v1.ConfigProto instead.\n",
      "\n",
      "WARNING:tensorflow:From /usr/local/lib/python3.6/dist-packages/keras/backend/tensorflow_backend.py:207: The name tf.global_variables is deprecated. Please use tf.compat.v1.global_variables instead.\n",
      "\n",
      "WARNING:tensorflow:From /usr/local/lib/python3.6/dist-packages/keras/backend/tensorflow_backend.py:216: The name tf.is_variable_initialized is deprecated. Please use tf.compat.v1.is_variable_initialized instead.\n",
      "\n",
      "WARNING:tensorflow:From /usr/local/lib/python3.6/dist-packages/keras/backend/tensorflow_backend.py:223: The name tf.variables_initializer is deprecated. Please use tf.compat.v1.variables_initializer instead.\n",
      "\n",
      "11486457/11486457 [==============================] - 1127s 98us/step - loss: 17889393457.7391 - mean_squared_error: 17889393457.7391 - val_loss: 17196665862.3596 - val_mean_squared_error: 17196665862.3596\n",
      "Epoch 2/10\n",
      "11486457/11486457 [==============================] - 1123s 98us/step - loss: 16735159111.2648 - mean_squared_error: 16735159111.2648 - val_loss: 17062200706.0806 - val_mean_squared_error: 17062200706.0806\n",
      "Epoch 3/10\n",
      "11486457/11486457 [==============================] - 1136s 99us/step - loss: 16726181871.2399 - mean_squared_error: 16726181871.2399 - val_loss: 17045341083.7164 - val_mean_squared_error: 17045341083.7164\n",
      "Epoch 4/10\n",
      "11486457/11486457 [==============================] - 1162s 101us/step - loss: 16703385067.8755 - mean_squared_error: 16703385067.8755 - val_loss: 17058610437.4059 - val_mean_squared_error: 17058610437.4059\n",
      "Epoch 5/10\n",
      "11486457/11486457 [==============================] - 1151s 100us/step - loss: 16815065300.0133 - mean_squared_error: 16815065300.0133 - val_loss: 17042256616.2105 - val_mean_squared_error: 17042256616.2105\n",
      "Epoch 6/10\n",
      "11486457/11486457 [==============================] - 1185s 103us/step - loss: 16802050365.6813 - mean_squared_error: 16802050365.6813 - val_loss: 17050252478.8266 - val_mean_squared_error: 17050252478.8266\n",
      "Epoch 7/10\n",
      "11486457/11486457 [==============================] - 1181s 103us/step - loss: 16759988197.6114 - mean_squared_error: 16759988197.6114 - val_loss: 17045756231.0593 - val_mean_squared_error: 17045756231.0593\n",
      "Epoch 8/10\n",
      "11486457/11486457 [==============================] - 1203s 105us/step - loss: 16821366094.2031 - mean_squared_error: 16821366094.2031 - val_loss: 17090828603.5708 - val_mean_squared_error: 17090828603.5708\n",
      "Epoch 9/10\n",
      "11486457/11486457 [==============================] - 1141s 99us/step - loss: 16674104208.7273 - mean_squared_error: 16674104208.7273 - val_loss: 17179260606.8535 - val_mean_squared_error: 17179260606.8535\n",
      "Epoch 10/10\n",
      "11486457/11486457 [==============================] - 1153s 100us/step - loss: 16911208641.3330 - mean_squared_error: 16911208641.3330 - val_loss: 17047571758.3097 - val_mean_squared_error: 17047571758.3097\n"
     ]
    },
    {
     "data": {
      "text/plain": [
       "<keras.callbacks.History at 0x7fbce7f783c8>"
      ]
     },
     "execution_count": 75,
     "metadata": {
      "tags": []
     },
     "output_type": "execute_result"
    }
   ],
   "source": [
    "NN_model.fit(X_train, y_train, epochs=10, batch_size=256, validation_split = 0.2)"
   ]
  },
  {
   "cell_type": "code",
   "execution_count": 0,
   "metadata": {
    "colab": {},
    "colab_type": "code",
    "id": "sRkFQ-9NQAyu"
   },
   "outputs": [],
   "source": [
    "ann_preds = NN_model.predict(test)"
   ]
  },
  {
   "cell_type": "code",
   "execution_count": 0,
   "metadata": {
    "colab": {},
    "colab_type": "code",
    "id": "apGLiflRQZyy"
   },
   "outputs": [],
   "source": [
    "ann_preds"
   ]
  },
  {
   "cell_type": "code",
   "execution_count": 0,
   "metadata": {
    "colab": {},
    "colab_type": "code",
    "id": "x_L4qzIJQHME"
   },
   "outputs": [],
   "source": [
    "ann_preds = pd.DataFrame(ann_pred, columns = ['yield'])"
   ]
  },
  {
   "cell_type": "code",
   "execution_count": 0,
   "metadata": {
    "colab": {},
    "colab_type": "code",
    "id": "vFHYZIjsQMxK"
   },
   "outputs": [],
   "source": [
    "sub = ann_preds.head(999999)"
   ]
  },
  {
   "cell_type": "code",
   "execution_count": 0,
   "metadata": {
    "colab": {},
    "colab_type": "code",
    "id": "n0FjqrLRQOyM"
   },
   "outputs": [],
   "source": [
    "sub.to_csv('6thSubmission(ann).csv')"
   ]
  }
 ],
 "metadata": {
  "colab": {
   "collapsed_sections": [],
   "machine_shape": "hm",
   "name": "Modelling.ipynb",
   "provenance": []
  },
  "kernelspec": {
   "display_name": "Python 3",
   "language": "python",
   "name": "python3"
  },
  "language_info": {
   "codemirror_mode": {
    "name": "ipython",
    "version": 3
   },
   "file_extension": ".py",
   "mimetype": "text/x-python",
   "name": "python",
   "nbconvert_exporter": "python",
   "pygments_lexer": "ipython3",
   "version": "3.7.3"
  }
 },
 "nbformat": 4,
 "nbformat_minor": 1
}
